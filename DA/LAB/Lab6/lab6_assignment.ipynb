{
 "cells": [
  {
   "cell_type": "code",
   "execution_count": 142,
   "metadata": {},
   "outputs": [],
   "source": [
    "import pandas as pd\n",
    "from sklearn.model_selection import train_test_split\n",
    "from sklearn.preprocessing import OrdinalEncoder\n",
    "from sklearn.preprocessing import LabelEncoder\n",
    "from sklearn.feature_selection import SelectKBest\n",
    "from sklearn.feature_selection import chi2\n",
    "import matplotlib.pyplot as plt\n",
    "from sklearn.feature_selection import mutual_info_classif"
   ]
  },
  {
   "cell_type": "code",
   "execution_count": 110,
   "metadata": {},
   "outputs": [],
   "source": [
    "data = pd.read_csv(\"drug200.csv\")"
   ]
  },
  {
   "cell_type": "code",
   "execution_count": 111,
   "metadata": {},
   "outputs": [
    {
     "data": {
      "text/html": [
       "<div>\n",
       "<style scoped>\n",
       "    .dataframe tbody tr th:only-of-type {\n",
       "        vertical-align: middle;\n",
       "    }\n",
       "\n",
       "    .dataframe tbody tr th {\n",
       "        vertical-align: top;\n",
       "    }\n",
       "\n",
       "    .dataframe thead th {\n",
       "        text-align: right;\n",
       "    }\n",
       "</style>\n",
       "<table border=\"1\" class=\"dataframe\">\n",
       "  <thead>\n",
       "    <tr style=\"text-align: right;\">\n",
       "      <th></th>\n",
       "      <th>Age</th>\n",
       "      <th>Sex</th>\n",
       "      <th>BP</th>\n",
       "      <th>Cholesterol</th>\n",
       "      <th>Na_to_K</th>\n",
       "      <th>Drug</th>\n",
       "    </tr>\n",
       "  </thead>\n",
       "  <tbody>\n",
       "    <tr>\n",
       "      <th>0</th>\n",
       "      <td>23</td>\n",
       "      <td>F</td>\n",
       "      <td>HIGH</td>\n",
       "      <td>HIGH</td>\n",
       "      <td>25.355</td>\n",
       "      <td>DrugY</td>\n",
       "    </tr>\n",
       "    <tr>\n",
       "      <th>1</th>\n",
       "      <td>47</td>\n",
       "      <td>M</td>\n",
       "      <td>LOW</td>\n",
       "      <td>HIGH</td>\n",
       "      <td>13.093</td>\n",
       "      <td>drugC</td>\n",
       "    </tr>\n",
       "    <tr>\n",
       "      <th>2</th>\n",
       "      <td>47</td>\n",
       "      <td>M</td>\n",
       "      <td>LOW</td>\n",
       "      <td>HIGH</td>\n",
       "      <td>10.114</td>\n",
       "      <td>drugC</td>\n",
       "    </tr>\n",
       "    <tr>\n",
       "      <th>3</th>\n",
       "      <td>28</td>\n",
       "      <td>F</td>\n",
       "      <td>NORMAL</td>\n",
       "      <td>HIGH</td>\n",
       "      <td>7.798</td>\n",
       "      <td>drugX</td>\n",
       "    </tr>\n",
       "    <tr>\n",
       "      <th>4</th>\n",
       "      <td>61</td>\n",
       "      <td>F</td>\n",
       "      <td>LOW</td>\n",
       "      <td>HIGH</td>\n",
       "      <td>18.043</td>\n",
       "      <td>DrugY</td>\n",
       "    </tr>\n",
       "    <tr>\n",
       "      <th>...</th>\n",
       "      <td>...</td>\n",
       "      <td>...</td>\n",
       "      <td>...</td>\n",
       "      <td>...</td>\n",
       "      <td>...</td>\n",
       "      <td>...</td>\n",
       "    </tr>\n",
       "    <tr>\n",
       "      <th>195</th>\n",
       "      <td>56</td>\n",
       "      <td>F</td>\n",
       "      <td>LOW</td>\n",
       "      <td>HIGH</td>\n",
       "      <td>11.567</td>\n",
       "      <td>drugC</td>\n",
       "    </tr>\n",
       "    <tr>\n",
       "      <th>196</th>\n",
       "      <td>16</td>\n",
       "      <td>M</td>\n",
       "      <td>LOW</td>\n",
       "      <td>HIGH</td>\n",
       "      <td>12.006</td>\n",
       "      <td>drugC</td>\n",
       "    </tr>\n",
       "    <tr>\n",
       "      <th>197</th>\n",
       "      <td>52</td>\n",
       "      <td>M</td>\n",
       "      <td>NORMAL</td>\n",
       "      <td>HIGH</td>\n",
       "      <td>9.894</td>\n",
       "      <td>drugX</td>\n",
       "    </tr>\n",
       "    <tr>\n",
       "      <th>198</th>\n",
       "      <td>23</td>\n",
       "      <td>M</td>\n",
       "      <td>NORMAL</td>\n",
       "      <td>NORMAL</td>\n",
       "      <td>14.020</td>\n",
       "      <td>drugX</td>\n",
       "    </tr>\n",
       "    <tr>\n",
       "      <th>199</th>\n",
       "      <td>40</td>\n",
       "      <td>F</td>\n",
       "      <td>LOW</td>\n",
       "      <td>NORMAL</td>\n",
       "      <td>11.349</td>\n",
       "      <td>drugX</td>\n",
       "    </tr>\n",
       "  </tbody>\n",
       "</table>\n",
       "<p>200 rows × 6 columns</p>\n",
       "</div>"
      ],
      "text/plain": [
       "     Age Sex      BP Cholesterol  Na_to_K   Drug\n",
       "0     23   F    HIGH        HIGH   25.355  DrugY\n",
       "1     47   M     LOW        HIGH   13.093  drugC\n",
       "2     47   M     LOW        HIGH   10.114  drugC\n",
       "3     28   F  NORMAL        HIGH    7.798  drugX\n",
       "4     61   F     LOW        HIGH   18.043  DrugY\n",
       "..   ...  ..     ...         ...      ...    ...\n",
       "195   56   F     LOW        HIGH   11.567  drugC\n",
       "196   16   M     LOW        HIGH   12.006  drugC\n",
       "197   52   M  NORMAL        HIGH    9.894  drugX\n",
       "198   23   M  NORMAL      NORMAL   14.020  drugX\n",
       "199   40   F     LOW      NORMAL   11.349  drugX\n",
       "\n",
       "[200 rows x 6 columns]"
      ]
     },
     "execution_count": 111,
     "metadata": {},
     "output_type": "execute_result"
    }
   ],
   "source": [
    "data"
   ]
  },
  {
   "cell_type": "code",
   "execution_count": 112,
   "metadata": {},
   "outputs": [
    {
     "data": {
      "text/plain": [
       "array([[23, 'F', 'HIGH', 'HIGH', 25.355, 'DrugY'],\n",
       "       [47, 'M', 'LOW', 'HIGH', 13.093, 'drugC'],\n",
       "       [47, 'M', 'LOW', 'HIGH', 10.114, 'drugC'],\n",
       "       ...,\n",
       "       [52, 'M', 'NORMAL', 'HIGH', 9.894, 'drugX'],\n",
       "       [23, 'M', 'NORMAL', 'NORMAL', 14.02, 'drugX'],\n",
       "       [40, 'F', 'LOW', 'NORMAL', 11.349, 'drugX']], dtype=object)"
      ]
     },
     "execution_count": 112,
     "metadata": {},
     "output_type": "execute_result"
    }
   ],
   "source": [
    "dataset = data.values\n",
    "dataset"
   ]
  },
  {
   "cell_type": "code",
   "execution_count": 113,
   "metadata": {},
   "outputs": [
    {
     "data": {
      "text/plain": [
       "array([[23, 'F', 'HIGH', 'HIGH', 25.355],\n",
       "       [47, 'M', 'LOW', 'HIGH', 13.093],\n",
       "       [47, 'M', 'LOW', 'HIGH', 10.114],\n",
       "       [28, 'F', 'NORMAL', 'HIGH', 7.798],\n",
       "       [61, 'F', 'LOW', 'HIGH', 18.043],\n",
       "       [22, 'F', 'NORMAL', 'HIGH', 8.607],\n",
       "       [49, 'F', 'NORMAL', 'HIGH', 16.275],\n",
       "       [41, 'M', 'LOW', 'HIGH', 11.037],\n",
       "       [60, 'M', 'NORMAL', 'HIGH', 15.171],\n",
       "       [43, 'M', 'LOW', 'NORMAL', 19.368],\n",
       "       [47, 'F', 'LOW', 'HIGH', 11.767],\n",
       "       [34, 'F', 'HIGH', 'NORMAL', 19.199],\n",
       "       [43, 'M', 'LOW', 'HIGH', 15.376],\n",
       "       [74, 'F', 'LOW', 'HIGH', 20.942],\n",
       "       [50, 'F', 'NORMAL', 'HIGH', 12.703],\n",
       "       [16, 'F', 'HIGH', 'NORMAL', 15.516],\n",
       "       [69, 'M', 'LOW', 'NORMAL', 11.455],\n",
       "       [43, 'M', 'HIGH', 'HIGH', 13.972],\n",
       "       [23, 'M', 'LOW', 'HIGH', 7.298],\n",
       "       [32, 'F', 'HIGH', 'NORMAL', 25.974],\n",
       "       [57, 'M', 'LOW', 'NORMAL', 19.128],\n",
       "       [63, 'M', 'NORMAL', 'HIGH', 25.917],\n",
       "       [47, 'M', 'LOW', 'NORMAL', 30.568],\n",
       "       [48, 'F', 'LOW', 'HIGH', 15.036],\n",
       "       [33, 'F', 'LOW', 'HIGH', 33.486],\n",
       "       [28, 'F', 'HIGH', 'NORMAL', 18.809],\n",
       "       [31, 'M', 'HIGH', 'HIGH', 30.366],\n",
       "       [49, 'F', 'NORMAL', 'NORMAL', 9.381],\n",
       "       [39, 'F', 'LOW', 'NORMAL', 22.697],\n",
       "       [45, 'M', 'LOW', 'HIGH', 17.951],\n",
       "       [18, 'F', 'NORMAL', 'NORMAL', 8.75],\n",
       "       [74, 'M', 'HIGH', 'HIGH', 9.567],\n",
       "       [49, 'M', 'LOW', 'NORMAL', 11.014],\n",
       "       [65, 'F', 'HIGH', 'NORMAL', 31.876],\n",
       "       [53, 'M', 'NORMAL', 'HIGH', 14.133],\n",
       "       [46, 'M', 'NORMAL', 'NORMAL', 7.285],\n",
       "       [32, 'M', 'HIGH', 'NORMAL', 9.445],\n",
       "       [39, 'M', 'LOW', 'NORMAL', 13.938],\n",
       "       [39, 'F', 'NORMAL', 'NORMAL', 9.709],\n",
       "       [15, 'M', 'NORMAL', 'HIGH', 9.084],\n",
       "       [73, 'F', 'NORMAL', 'HIGH', 19.221],\n",
       "       [58, 'F', 'HIGH', 'NORMAL', 14.239],\n",
       "       [50, 'M', 'NORMAL', 'NORMAL', 15.79],\n",
       "       [23, 'M', 'NORMAL', 'HIGH', 12.26],\n",
       "       [50, 'F', 'NORMAL', 'NORMAL', 12.295],\n",
       "       [66, 'F', 'NORMAL', 'NORMAL', 8.107],\n",
       "       [37, 'F', 'HIGH', 'HIGH', 13.091],\n",
       "       [68, 'M', 'LOW', 'HIGH', 10.291],\n",
       "       [23, 'M', 'NORMAL', 'HIGH', 31.686],\n",
       "       [28, 'F', 'LOW', 'HIGH', 19.796],\n",
       "       [58, 'F', 'HIGH', 'HIGH', 19.416],\n",
       "       [67, 'M', 'NORMAL', 'NORMAL', 10.898],\n",
       "       [62, 'M', 'LOW', 'NORMAL', 27.183],\n",
       "       [24, 'F', 'HIGH', 'NORMAL', 18.457],\n",
       "       [68, 'F', 'HIGH', 'NORMAL', 10.189],\n",
       "       [26, 'F', 'LOW', 'HIGH', 14.16],\n",
       "       [65, 'M', 'HIGH', 'NORMAL', 11.34],\n",
       "       [40, 'M', 'HIGH', 'HIGH', 27.826],\n",
       "       [60, 'M', 'NORMAL', 'NORMAL', 10.091],\n",
       "       [34, 'M', 'HIGH', 'HIGH', 18.703],\n",
       "       [38, 'F', 'LOW', 'NORMAL', 29.875],\n",
       "       [24, 'M', 'HIGH', 'NORMAL', 9.475],\n",
       "       [67, 'M', 'LOW', 'NORMAL', 20.693],\n",
       "       [45, 'M', 'LOW', 'NORMAL', 8.37],\n",
       "       [60, 'F', 'HIGH', 'HIGH', 13.303],\n",
       "       [68, 'F', 'NORMAL', 'NORMAL', 27.05],\n",
       "       [29, 'M', 'HIGH', 'HIGH', 12.856],\n",
       "       [17, 'M', 'NORMAL', 'NORMAL', 10.832],\n",
       "       [54, 'M', 'NORMAL', 'HIGH', 24.658],\n",
       "       [18, 'F', 'HIGH', 'NORMAL', 24.276],\n",
       "       [70, 'M', 'HIGH', 'HIGH', 13.967],\n",
       "       [28, 'F', 'NORMAL', 'HIGH', 19.675],\n",
       "       [24, 'F', 'NORMAL', 'HIGH', 10.605],\n",
       "       [41, 'F', 'NORMAL', 'NORMAL', 22.905],\n",
       "       [31, 'M', 'HIGH', 'NORMAL', 17.069],\n",
       "       [26, 'M', 'LOW', 'NORMAL', 20.909],\n",
       "       [36, 'F', 'HIGH', 'HIGH', 11.198],\n",
       "       [26, 'F', 'HIGH', 'NORMAL', 19.161],\n",
       "       [19, 'F', 'HIGH', 'HIGH', 13.313],\n",
       "       [32, 'F', 'LOW', 'NORMAL', 10.84],\n",
       "       [60, 'M', 'HIGH', 'HIGH', 13.934],\n",
       "       [64, 'M', 'NORMAL', 'HIGH', 7.761],\n",
       "       [32, 'F', 'LOW', 'HIGH', 9.712],\n",
       "       [38, 'F', 'HIGH', 'NORMAL', 11.326],\n",
       "       [47, 'F', 'LOW', 'HIGH', 10.067],\n",
       "       [59, 'M', 'HIGH', 'HIGH', 13.935],\n",
       "       [51, 'F', 'NORMAL', 'HIGH', 13.597],\n",
       "       [69, 'M', 'LOW', 'HIGH', 15.478],\n",
       "       [37, 'F', 'HIGH', 'NORMAL', 23.091],\n",
       "       [50, 'F', 'NORMAL', 'NORMAL', 17.211],\n",
       "       [62, 'M', 'NORMAL', 'HIGH', 16.594],\n",
       "       [41, 'M', 'HIGH', 'NORMAL', 15.156],\n",
       "       [29, 'F', 'HIGH', 'HIGH', 29.45],\n",
       "       [42, 'F', 'LOW', 'NORMAL', 29.271],\n",
       "       [56, 'M', 'LOW', 'HIGH', 15.015],\n",
       "       [36, 'M', 'LOW', 'NORMAL', 11.424],\n",
       "       [58, 'F', 'LOW', 'HIGH', 38.247],\n",
       "       [56, 'F', 'HIGH', 'HIGH', 25.395],\n",
       "       [20, 'M', 'HIGH', 'NORMAL', 35.639],\n",
       "       [15, 'F', 'HIGH', 'NORMAL', 16.725],\n",
       "       [31, 'M', 'HIGH', 'NORMAL', 11.871],\n",
       "       [45, 'F', 'HIGH', 'HIGH', 12.854],\n",
       "       [28, 'F', 'LOW', 'HIGH', 13.127],\n",
       "       [56, 'M', 'NORMAL', 'HIGH', 8.966],\n",
       "       [22, 'M', 'HIGH', 'NORMAL', 28.294],\n",
       "       [37, 'M', 'LOW', 'NORMAL', 8.968],\n",
       "       [22, 'M', 'NORMAL', 'HIGH', 11.953],\n",
       "       [42, 'M', 'LOW', 'HIGH', 20.013],\n",
       "       [72, 'M', 'HIGH', 'NORMAL', 9.677],\n",
       "       [23, 'M', 'NORMAL', 'HIGH', 16.85],\n",
       "       [50, 'M', 'HIGH', 'HIGH', 7.49],\n",
       "       [47, 'F', 'NORMAL', 'NORMAL', 6.683],\n",
       "       [35, 'M', 'LOW', 'NORMAL', 9.17],\n",
       "       [65, 'F', 'LOW', 'NORMAL', 13.769],\n",
       "       [20, 'F', 'NORMAL', 'NORMAL', 9.281],\n",
       "       [51, 'M', 'HIGH', 'HIGH', 18.295],\n",
       "       [67, 'M', 'NORMAL', 'NORMAL', 9.514],\n",
       "       [40, 'F', 'NORMAL', 'HIGH', 10.103],\n",
       "       [32, 'F', 'HIGH', 'NORMAL', 10.292],\n",
       "       [61, 'F', 'HIGH', 'HIGH', 25.475],\n",
       "       [28, 'M', 'NORMAL', 'HIGH', 27.064],\n",
       "       [15, 'M', 'HIGH', 'NORMAL', 17.206],\n",
       "       [34, 'M', 'NORMAL', 'HIGH', 22.456],\n",
       "       [36, 'F', 'NORMAL', 'HIGH', 16.753],\n",
       "       [53, 'F', 'HIGH', 'NORMAL', 12.495],\n",
       "       [19, 'F', 'HIGH', 'NORMAL', 25.969],\n",
       "       [66, 'M', 'HIGH', 'HIGH', 16.347],\n",
       "       [35, 'M', 'NORMAL', 'NORMAL', 7.845],\n",
       "       [47, 'M', 'LOW', 'NORMAL', 33.542],\n",
       "       [32, 'F', 'NORMAL', 'HIGH', 7.477],\n",
       "       [70, 'F', 'NORMAL', 'HIGH', 20.489],\n",
       "       [52, 'M', 'LOW', 'NORMAL', 32.922],\n",
       "       [49, 'M', 'LOW', 'NORMAL', 13.598],\n",
       "       [24, 'M', 'NORMAL', 'HIGH', 25.786],\n",
       "       [42, 'F', 'HIGH', 'HIGH', 21.036],\n",
       "       [74, 'M', 'LOW', 'NORMAL', 11.939],\n",
       "       [55, 'F', 'HIGH', 'HIGH', 10.977],\n",
       "       [35, 'F', 'HIGH', 'HIGH', 12.894],\n",
       "       [51, 'M', 'HIGH', 'NORMAL', 11.343],\n",
       "       [69, 'F', 'NORMAL', 'HIGH', 10.065],\n",
       "       [49, 'M', 'HIGH', 'NORMAL', 6.269],\n",
       "       [64, 'F', 'LOW', 'NORMAL', 25.741],\n",
       "       [60, 'M', 'HIGH', 'NORMAL', 8.621],\n",
       "       [74, 'M', 'HIGH', 'NORMAL', 15.436],\n",
       "       [39, 'M', 'HIGH', 'HIGH', 9.664],\n",
       "       [61, 'M', 'NORMAL', 'HIGH', 9.443],\n",
       "       [37, 'F', 'LOW', 'NORMAL', 12.006],\n",
       "       [26, 'F', 'HIGH', 'NORMAL', 12.307],\n",
       "       [61, 'F', 'LOW', 'NORMAL', 7.34],\n",
       "       [22, 'M', 'LOW', 'HIGH', 8.151],\n",
       "       [49, 'M', 'HIGH', 'NORMAL', 8.7],\n",
       "       [68, 'M', 'HIGH', 'HIGH', 11.009],\n",
       "       [55, 'M', 'NORMAL', 'NORMAL', 7.261],\n",
       "       [72, 'F', 'LOW', 'NORMAL', 14.642],\n",
       "       [37, 'M', 'LOW', 'NORMAL', 16.724],\n",
       "       [49, 'M', 'LOW', 'HIGH', 10.537],\n",
       "       [31, 'M', 'HIGH', 'NORMAL', 11.227],\n",
       "       [53, 'M', 'LOW', 'HIGH', 22.963],\n",
       "       [59, 'F', 'LOW', 'HIGH', 10.444],\n",
       "       [34, 'F', 'LOW', 'NORMAL', 12.923],\n",
       "       [30, 'F', 'NORMAL', 'HIGH', 10.443],\n",
       "       [57, 'F', 'HIGH', 'NORMAL', 9.945],\n",
       "       [43, 'M', 'NORMAL', 'NORMAL', 12.859],\n",
       "       [21, 'F', 'HIGH', 'NORMAL', 28.632],\n",
       "       [16, 'M', 'HIGH', 'NORMAL', 19.007],\n",
       "       [38, 'M', 'LOW', 'HIGH', 18.295],\n",
       "       [58, 'F', 'LOW', 'HIGH', 26.645],\n",
       "       [57, 'F', 'NORMAL', 'HIGH', 14.216],\n",
       "       [51, 'F', 'LOW', 'NORMAL', 23.003],\n",
       "       [20, 'F', 'HIGH', 'HIGH', 11.262],\n",
       "       [28, 'F', 'NORMAL', 'HIGH', 12.879],\n",
       "       [45, 'M', 'LOW', 'NORMAL', 10.017],\n",
       "       [39, 'F', 'NORMAL', 'NORMAL', 17.225],\n",
       "       [41, 'F', 'LOW', 'NORMAL', 18.739],\n",
       "       [42, 'M', 'HIGH', 'NORMAL', 12.766],\n",
       "       [73, 'F', 'HIGH', 'HIGH', 18.348],\n",
       "       [48, 'M', 'HIGH', 'NORMAL', 10.446],\n",
       "       [25, 'M', 'NORMAL', 'HIGH', 19.011],\n",
       "       [39, 'M', 'NORMAL', 'HIGH', 15.969],\n",
       "       [67, 'F', 'NORMAL', 'HIGH', 15.891],\n",
       "       [22, 'F', 'HIGH', 'NORMAL', 22.818],\n",
       "       [59, 'F', 'NORMAL', 'HIGH', 13.884],\n",
       "       [20, 'F', 'LOW', 'NORMAL', 11.686],\n",
       "       [36, 'F', 'HIGH', 'NORMAL', 15.49],\n",
       "       [18, 'F', 'HIGH', 'HIGH', 37.188],\n",
       "       [57, 'F', 'NORMAL', 'NORMAL', 25.893],\n",
       "       [70, 'M', 'HIGH', 'HIGH', 9.849],\n",
       "       [47, 'M', 'HIGH', 'HIGH', 10.403],\n",
       "       [65, 'M', 'HIGH', 'NORMAL', 34.997],\n",
       "       [64, 'M', 'HIGH', 'NORMAL', 20.932],\n",
       "       [58, 'M', 'HIGH', 'HIGH', 18.991],\n",
       "       [23, 'M', 'HIGH', 'HIGH', 8.011],\n",
       "       [72, 'M', 'LOW', 'HIGH', 16.31],\n",
       "       [72, 'M', 'LOW', 'HIGH', 6.769],\n",
       "       [46, 'F', 'HIGH', 'HIGH', 34.686],\n",
       "       [56, 'F', 'LOW', 'HIGH', 11.567],\n",
       "       [16, 'M', 'LOW', 'HIGH', 12.006],\n",
       "       [52, 'M', 'NORMAL', 'HIGH', 9.894],\n",
       "       [23, 'M', 'NORMAL', 'NORMAL', 14.02],\n",
       "       [40, 'F', 'LOW', 'NORMAL', 11.349]], dtype=object)"
      ]
     },
     "execution_count": 113,
     "metadata": {},
     "output_type": "execute_result"
    }
   ],
   "source": [
    "X = dataset[:, :-1]\n",
    "X"
   ]
  },
  {
   "cell_type": "code",
   "execution_count": 114,
   "metadata": {},
   "outputs": [
    {
     "data": {
      "text/plain": [
       "array(['DrugY', 'drugC', 'drugC', 'drugX', 'DrugY', 'drugX', 'DrugY',\n",
       "       'drugC', 'DrugY', 'DrugY', 'drugC', 'DrugY', 'DrugY', 'DrugY',\n",
       "       'drugX', 'DrugY', 'drugX', 'drugA', 'drugC', 'DrugY', 'DrugY',\n",
       "       'DrugY', 'DrugY', 'DrugY', 'DrugY', 'DrugY', 'DrugY', 'drugX',\n",
       "       'DrugY', 'DrugY', 'drugX', 'drugB', 'drugX', 'DrugY', 'drugX',\n",
       "       'drugX', 'drugA', 'drugX', 'drugX', 'drugX', 'DrugY', 'drugB',\n",
       "       'DrugY', 'drugX', 'drugX', 'drugX', 'drugA', 'drugC', 'DrugY',\n",
       "       'DrugY', 'DrugY', 'drugX', 'DrugY', 'DrugY', 'drugB', 'drugC',\n",
       "       'drugB', 'DrugY', 'drugX', 'DrugY', 'DrugY', 'drugA', 'DrugY',\n",
       "       'drugX', 'drugB', 'DrugY', 'drugA', 'drugX', 'DrugY', 'DrugY',\n",
       "       'drugB', 'DrugY', 'drugX', 'DrugY', 'DrugY', 'DrugY', 'drugA',\n",
       "       'DrugY', 'drugA', 'drugX', 'drugB', 'drugX', 'drugC', 'drugA',\n",
       "       'drugC', 'drugB', 'drugX', 'DrugY', 'DrugY', 'DrugY', 'DrugY',\n",
       "       'DrugY', 'DrugY', 'DrugY', 'DrugY', 'drugX', 'DrugY', 'DrugY',\n",
       "       'DrugY', 'DrugY', 'drugA', 'drugA', 'drugC', 'drugX', 'DrugY',\n",
       "       'drugX', 'drugX', 'DrugY', 'drugB', 'DrugY', 'drugA', 'drugX',\n",
       "       'drugX', 'drugX', 'drugX', 'DrugY', 'drugX', 'drugX', 'drugA',\n",
       "       'DrugY', 'DrugY', 'DrugY', 'DrugY', 'DrugY', 'drugB', 'DrugY',\n",
       "       'DrugY', 'drugX', 'DrugY', 'drugX', 'DrugY', 'DrugY', 'drugX',\n",
       "       'DrugY', 'DrugY', 'drugX', 'drugB', 'drugA', 'drugB', 'drugX',\n",
       "       'drugA', 'DrugY', 'drugB', 'DrugY', 'drugA', 'drugX', 'drugX',\n",
       "       'drugA', 'drugX', 'drugC', 'drugA', 'drugB', 'drugX', 'drugX',\n",
       "       'DrugY', 'drugC', 'drugA', 'DrugY', 'drugC', 'drugX', 'drugX',\n",
       "       'drugB', 'drugX', 'DrugY', 'DrugY', 'DrugY', 'DrugY', 'drugX',\n",
       "       'DrugY', 'drugA', 'drugX', 'drugX', 'DrugY', 'DrugY', 'drugA',\n",
       "       'DrugY', 'drugA', 'DrugY', 'DrugY', 'DrugY', 'DrugY', 'drugX',\n",
       "       'drugX', 'DrugY', 'DrugY', 'DrugY', 'drugB', 'drugA', 'DrugY',\n",
       "       'DrugY', 'DrugY', 'drugA', 'DrugY', 'drugC', 'DrugY', 'drugC',\n",
       "       'drugC', 'drugX', 'drugX', 'drugX'], dtype=object)"
      ]
     },
     "execution_count": 114,
     "metadata": {},
     "output_type": "execute_result"
    }
   ],
   "source": [
    "Y = dataset[:, -1]\n",
    "Y"
   ]
  },
  {
   "cell_type": "code",
   "execution_count": 115,
   "metadata": {},
   "outputs": [],
   "source": [
    "X = X.astype(str)"
   ]
  },
  {
   "cell_type": "code",
   "execution_count": 116,
   "metadata": {},
   "outputs": [
    {
     "data": {
      "text/plain": [
       "(array(['23', 'F', 'HIGH', 'HIGH', '25.355'], dtype='<U6'), 'DrugY')"
      ]
     },
     "execution_count": 116,
     "metadata": {},
     "output_type": "execute_result"
    }
   ],
   "source": [
    "X[0], Y[0]"
   ]
  },
  {
   "cell_type": "code",
   "execution_count": 117,
   "metadata": {},
   "outputs": [],
   "source": [
    "X_new = pd.DataFrame(X)\n",
    "y_new = pd.DataFrame(Y)"
   ]
  },
  {
   "cell_type": "code",
   "execution_count": 118,
   "metadata": {},
   "outputs": [
    {
     "data": {
      "text/html": [
       "<div>\n",
       "<style scoped>\n",
       "    .dataframe tbody tr th:only-of-type {\n",
       "        vertical-align: middle;\n",
       "    }\n",
       "\n",
       "    .dataframe tbody tr th {\n",
       "        vertical-align: top;\n",
       "    }\n",
       "\n",
       "    .dataframe thead th {\n",
       "        text-align: right;\n",
       "    }\n",
       "</style>\n",
       "<table border=\"1\" class=\"dataframe\">\n",
       "  <thead>\n",
       "    <tr style=\"text-align: right;\">\n",
       "      <th></th>\n",
       "      <th>0</th>\n",
       "      <th>1</th>\n",
       "      <th>2</th>\n",
       "      <th>3</th>\n",
       "      <th>4</th>\n",
       "    </tr>\n",
       "  </thead>\n",
       "  <tbody>\n",
       "    <tr>\n",
       "      <th>0</th>\n",
       "      <td>23</td>\n",
       "      <td>F</td>\n",
       "      <td>HIGH</td>\n",
       "      <td>HIGH</td>\n",
       "      <td>25.355</td>\n",
       "    </tr>\n",
       "    <tr>\n",
       "      <th>1</th>\n",
       "      <td>47</td>\n",
       "      <td>M</td>\n",
       "      <td>LOW</td>\n",
       "      <td>HIGH</td>\n",
       "      <td>13.093</td>\n",
       "    </tr>\n",
       "    <tr>\n",
       "      <th>2</th>\n",
       "      <td>47</td>\n",
       "      <td>M</td>\n",
       "      <td>LOW</td>\n",
       "      <td>HIGH</td>\n",
       "      <td>10.114</td>\n",
       "    </tr>\n",
       "    <tr>\n",
       "      <th>3</th>\n",
       "      <td>28</td>\n",
       "      <td>F</td>\n",
       "      <td>NORMAL</td>\n",
       "      <td>HIGH</td>\n",
       "      <td>7.798</td>\n",
       "    </tr>\n",
       "    <tr>\n",
       "      <th>4</th>\n",
       "      <td>61</td>\n",
       "      <td>F</td>\n",
       "      <td>LOW</td>\n",
       "      <td>HIGH</td>\n",
       "      <td>18.043</td>\n",
       "    </tr>\n",
       "    <tr>\n",
       "      <th>...</th>\n",
       "      <td>...</td>\n",
       "      <td>...</td>\n",
       "      <td>...</td>\n",
       "      <td>...</td>\n",
       "      <td>...</td>\n",
       "    </tr>\n",
       "    <tr>\n",
       "      <th>195</th>\n",
       "      <td>56</td>\n",
       "      <td>F</td>\n",
       "      <td>LOW</td>\n",
       "      <td>HIGH</td>\n",
       "      <td>11.567</td>\n",
       "    </tr>\n",
       "    <tr>\n",
       "      <th>196</th>\n",
       "      <td>16</td>\n",
       "      <td>M</td>\n",
       "      <td>LOW</td>\n",
       "      <td>HIGH</td>\n",
       "      <td>12.006</td>\n",
       "    </tr>\n",
       "    <tr>\n",
       "      <th>197</th>\n",
       "      <td>52</td>\n",
       "      <td>M</td>\n",
       "      <td>NORMAL</td>\n",
       "      <td>HIGH</td>\n",
       "      <td>9.894</td>\n",
       "    </tr>\n",
       "    <tr>\n",
       "      <th>198</th>\n",
       "      <td>23</td>\n",
       "      <td>M</td>\n",
       "      <td>NORMAL</td>\n",
       "      <td>NORMAL</td>\n",
       "      <td>14.02</td>\n",
       "    </tr>\n",
       "    <tr>\n",
       "      <th>199</th>\n",
       "      <td>40</td>\n",
       "      <td>F</td>\n",
       "      <td>LOW</td>\n",
       "      <td>NORMAL</td>\n",
       "      <td>11.349</td>\n",
       "    </tr>\n",
       "  </tbody>\n",
       "</table>\n",
       "<p>200 rows × 5 columns</p>\n",
       "</div>"
      ],
      "text/plain": [
       "      0  1       2       3       4\n",
       "0    23  F    HIGH    HIGH  25.355\n",
       "1    47  M     LOW    HIGH  13.093\n",
       "2    47  M     LOW    HIGH  10.114\n",
       "3    28  F  NORMAL    HIGH   7.798\n",
       "4    61  F     LOW    HIGH  18.043\n",
       "..   .. ..     ...     ...     ...\n",
       "195  56  F     LOW    HIGH  11.567\n",
       "196  16  M     LOW    HIGH  12.006\n",
       "197  52  M  NORMAL    HIGH   9.894\n",
       "198  23  M  NORMAL  NORMAL   14.02\n",
       "199  40  F     LOW  NORMAL  11.349\n",
       "\n",
       "[200 rows x 5 columns]"
      ]
     },
     "execution_count": 118,
     "metadata": {},
     "output_type": "execute_result"
    }
   ],
   "source": [
    "X_new"
   ]
  },
  {
   "cell_type": "code",
   "execution_count": 119,
   "metadata": {},
   "outputs": [
    {
     "name": "stdout",
     "output_type": "stream",
     "text": [
      "<class 'pandas.core.frame.DataFrame'>\n",
      "RangeIndex: 200 entries, 0 to 199\n",
      "Data columns (total 5 columns):\n",
      " #   Column  Non-Null Count  Dtype \n",
      "---  ------  --------------  ----- \n",
      " 0   0       200 non-null    object\n",
      " 1   1       200 non-null    object\n",
      " 2   2       200 non-null    object\n",
      " 3   3       200 non-null    object\n",
      " 4   4       200 non-null    object\n",
      "dtypes: object(5)\n",
      "memory usage: 7.9+ KB\n"
     ]
    }
   ],
   "source": [
    "X_new.info()"
   ]
  },
  {
   "cell_type": "code",
   "execution_count": 120,
   "metadata": {},
   "outputs": [
    {
     "data": {
      "text/html": [
       "<div>\n",
       "<style scoped>\n",
       "    .dataframe tbody tr th:only-of-type {\n",
       "        vertical-align: middle;\n",
       "    }\n",
       "\n",
       "    .dataframe tbody tr th {\n",
       "        vertical-align: top;\n",
       "    }\n",
       "\n",
       "    .dataframe thead th {\n",
       "        text-align: right;\n",
       "    }\n",
       "</style>\n",
       "<table border=\"1\" class=\"dataframe\">\n",
       "  <thead>\n",
       "    <tr style=\"text-align: right;\">\n",
       "      <th></th>\n",
       "      <th>1</th>\n",
       "      <th>2</th>\n",
       "      <th>3</th>\n",
       "    </tr>\n",
       "  </thead>\n",
       "  <tbody>\n",
       "    <tr>\n",
       "      <th>0</th>\n",
       "      <td>F</td>\n",
       "      <td>HIGH</td>\n",
       "      <td>HIGH</td>\n",
       "    </tr>\n",
       "    <tr>\n",
       "      <th>1</th>\n",
       "      <td>M</td>\n",
       "      <td>LOW</td>\n",
       "      <td>HIGH</td>\n",
       "    </tr>\n",
       "    <tr>\n",
       "      <th>2</th>\n",
       "      <td>M</td>\n",
       "      <td>LOW</td>\n",
       "      <td>HIGH</td>\n",
       "    </tr>\n",
       "    <tr>\n",
       "      <th>3</th>\n",
       "      <td>F</td>\n",
       "      <td>NORMAL</td>\n",
       "      <td>HIGH</td>\n",
       "    </tr>\n",
       "    <tr>\n",
       "      <th>4</th>\n",
       "      <td>F</td>\n",
       "      <td>LOW</td>\n",
       "      <td>HIGH</td>\n",
       "    </tr>\n",
       "    <tr>\n",
       "      <th>...</th>\n",
       "      <td>...</td>\n",
       "      <td>...</td>\n",
       "      <td>...</td>\n",
       "    </tr>\n",
       "    <tr>\n",
       "      <th>195</th>\n",
       "      <td>F</td>\n",
       "      <td>LOW</td>\n",
       "      <td>HIGH</td>\n",
       "    </tr>\n",
       "    <tr>\n",
       "      <th>196</th>\n",
       "      <td>M</td>\n",
       "      <td>LOW</td>\n",
       "      <td>HIGH</td>\n",
       "    </tr>\n",
       "    <tr>\n",
       "      <th>197</th>\n",
       "      <td>M</td>\n",
       "      <td>NORMAL</td>\n",
       "      <td>HIGH</td>\n",
       "    </tr>\n",
       "    <tr>\n",
       "      <th>198</th>\n",
       "      <td>M</td>\n",
       "      <td>NORMAL</td>\n",
       "      <td>NORMAL</td>\n",
       "    </tr>\n",
       "    <tr>\n",
       "      <th>199</th>\n",
       "      <td>F</td>\n",
       "      <td>LOW</td>\n",
       "      <td>NORMAL</td>\n",
       "    </tr>\n",
       "  </tbody>\n",
       "</table>\n",
       "<p>200 rows × 3 columns</p>\n",
       "</div>"
      ],
      "text/plain": [
       "     1       2       3\n",
       "0    F    HIGH    HIGH\n",
       "1    M     LOW    HIGH\n",
       "2    M     LOW    HIGH\n",
       "3    F  NORMAL    HIGH\n",
       "4    F     LOW    HIGH\n",
       "..  ..     ...     ...\n",
       "195  F     LOW    HIGH\n",
       "196  M     LOW    HIGH\n",
       "197  M  NORMAL    HIGH\n",
       "198  M  NORMAL  NORMAL\n",
       "199  F     LOW  NORMAL\n",
       "\n",
       "[200 rows x 3 columns]"
      ]
     },
     "execution_count": 120,
     "metadata": {},
     "output_type": "execute_result"
    }
   ],
   "source": [
    "X_new = X_new.drop([0, 4], axis=1)\n",
    "X_new"
   ]
  },
  {
   "cell_type": "markdown",
   "metadata": {},
   "source": [
    "### Splitting the data"
   ]
  },
  {
   "cell_type": "code",
   "execution_count": 128,
   "metadata": {},
   "outputs": [],
   "source": [
    "X_train, X_test, y_train, y_test = train_test_split(X_new, y_new, test_size=0.33, random_state=42)"
   ]
  },
  {
   "cell_type": "code",
   "execution_count": 129,
   "metadata": {},
   "outputs": [
    {
     "name": "stdout",
     "output_type": "stream",
     "text": [
      "The Train shape of X : (134, 3) and y: (134, 1)\n",
      "The Test shape of X: (66, 3) and y: (66, 1)\n"
     ]
    }
   ],
   "source": [
    "print(f\"The Train shape of X : {X_train.shape} and y: {y_train.shape}\")\n",
    "print(f\"The Test shape of X: {X_test.shape} and y: {y_test.shape}\")"
   ]
  },
  {
   "cell_type": "code",
   "execution_count": 130,
   "metadata": {},
   "outputs": [],
   "source": [
    "def prepare_inputs(X_train, X_test):\n",
    "    ordinal_encoder = OrdinalEncoder()\n",
    "    ordinal_encoder.fit(X_train)\n",
    "    X_train_enc = ordinal_encoder.transform(X_train)\n",
    "    X_test_enc = ordinal_encoder.transform(X_test)\n",
    "    return X_train_enc, X_test_enc"
   ]
  },
  {
   "cell_type": "code",
   "execution_count": 131,
   "metadata": {},
   "outputs": [],
   "source": [
    "def prepare_target(y_train, y_test):\n",
    "    label_encoder = LabelEncoder()\n",
    "    label_encoder.fit(y_train)\n",
    "    y_train_enc = label_encoder.transform(y_train)\n",
    "    y_test_enc = label_encoder.transform(y_test)\n",
    "    return y_train_enc, y_test_enc"
   ]
  },
  {
   "cell_type": "code",
   "execution_count": 132,
   "metadata": {},
   "outputs": [],
   "source": [
    "X_train_enc, X_test_enc = prepare_inputs(X_train, X_test)"
   ]
  },
  {
   "cell_type": "code",
   "execution_count": 133,
   "metadata": {},
   "outputs": [],
   "source": [
    "y_train_enc, y_test_enc = prepare_inputs(y_train, y_test)"
   ]
  },
  {
   "cell_type": "markdown",
   "metadata": {},
   "source": [
    "## Chi Squared Feature Selection"
   ]
  },
  {
   "cell_type": "code",
   "execution_count": 135,
   "metadata": {},
   "outputs": [],
   "source": [
    "def select_features(X_train, Y_train, X_test):\n",
    "    fs = SelectKBest(score_func=chi2, k='all')\n",
    "    fs.fit(X_train, y_train)\n",
    "    X_train_fs = fs.transform(X_train)\n",
    "    X_test_fs = fs.transform(X_test)\n",
    "    return X_train_fs, X_test_fs, fs"
   ]
  },
  {
   "cell_type": "code",
   "execution_count": 137,
   "metadata": {},
   "outputs": [],
   "source": [
    "X_train_fs, X_test_fs, fs=select_features(X_train_enc, y_train_enc, X_test_enc)"
   ]
  },
  {
   "cell_type": "code",
   "execution_count": 138,
   "metadata": {},
   "outputs": [
    {
     "data": {
      "text/plain": [
       "array([ 2.31314311, 47.98624311,  5.89741885])"
      ]
     },
     "execution_count": 138,
     "metadata": {},
     "output_type": "execute_result"
    }
   ],
   "source": [
    "fs.scores_"
   ]
  },
  {
   "cell_type": "code",
   "execution_count": 141,
   "metadata": {},
   "outputs": [
    {
     "data": {
      "image/png": "[encoded data removed]",
      "text/plain": [
       "<Figure size 640x480 with 1 Axes>"
      ]
     },
     "metadata": {},
     "output_type": "display_data"
    }
   ],
   "source": [
    "plt.bar([i for i in range (len(fs.scores_))],fs.scores_)\n",
    "plt.show()"
   ]
  },
  {
   "cell_type": "markdown",
   "metadata": {},
   "source": [
    "## Mutual Information feature Selection"
   ]
  },
  {
   "cell_type": "code",
   "execution_count": 144,
   "metadata": {},
   "outputs": [],
   "source": [
    "def select_features_2(X_train, Y_train, X_test):\n",
    "    fs=SelectKBest(score_func=mutual_info_classif, k='all')\n",
    "    fs.fit(X_train, Y_train)\n",
    "    X_train_fs_2=fs.transform(X_train)\n",
    "    X_test_fs_2=fs.transform(X_test)\n",
    "    return X_train_fs_2, X_test_fs_2, fs"
   ]
  },
  {
   "cell_type": "code",
   "execution_count": 146,
   "metadata": {},
   "outputs": [
    {
     "name": "stderr",
     "output_type": "stream",
     "text": [
      "/Users/selva/enter/envs/torch/lib/python3.11/site-packages/sklearn/utils/validation.py:1143: DataConversionWarning: A column-vector y was passed when a 1d array was expected. Please change the shape of y to (n_samples, ), for example using ravel().\n",
      "  y = column_or_1d(y, warn=True)\n"
     ]
    }
   ],
   "source": [
    "X_train_fs_2, X_test_fs_2, fs=select_features_2(X_train_enc, y_train_enc, X_test_enc)"
   ]
  },
  {
   "cell_type": "code",
   "execution_count": 147,
   "metadata": {},
   "outputs": [
    {
     "data": {
      "text/plain": [
       "array([0.        , 0.35630001, 0.02907744])"
      ]
     },
     "execution_count": 147,
     "metadata": {},
     "output_type": "execute_result"
    }
   ],
   "source": [
    "fs.scores_"
   ]
  },
  {
   "cell_type": "code",
   "execution_count": 148,
   "metadata": {},
   "outputs": [
    {
     "data": {
      "image/png": "[encoded data removed]",
      "text/plain": [
       "<Figure size 640x480 with 1 Axes>"
      ]
     },
     "metadata": {},
     "output_type": "display_data"
    }
   ],
   "source": [
    "plt.bar([i for i in range (len(fs.scores_))],fs.scores_)\n",
    "plt.show()"
   ]
  },
  {
   "cell_type": "code",
   "execution_count": 149,
   "metadata": {},
   "outputs": [],
   "source": [
    "from sklearn.linear_model import LogisticRegression\n",
    "from sklearn.metrics import accuracy_score"
   ]
  },
  {
   "cell_type": "code",
   "execution_count": 150,
   "metadata": {},
   "outputs": [
    {
     "name": "stdout",
     "output_type": "stream",
     "text": [
      "Accuracy: 53.03\n"
     ]
    },
    {
     "name": "stderr",
     "output_type": "stream",
     "text": [
      "/Users/selva/enter/envs/torch/lib/python3.11/site-packages/sklearn/utils/validation.py:1143: DataConversionWarning: A column-vector y was passed when a 1d array was expected. Please change the shape of y to (n_samples, ), for example using ravel().\n",
      "  y = column_or_1d(y, warn=True)\n"
     ]
    }
   ],
   "source": [
    "model=LogisticRegression(solver='lbfgs')\n",
    "model.fit(X_train_enc, y_train_enc)\n",
    "LogisticRegression(C=1.0, class_weight=None, dual=False, fit_intercept=True,\n",
    " intercept_scaling=1, l1_ratio=None, max_iter=100,\n",
    "multi_class='auto', n_jobs=None, penalty='l2',\n",
    " random_state=None, solver='lbfgs', tol=0.0001, verbose=0,\n",
    "warm_start=False)\n",
    "#predict the model\n",
    "yhat=model.predict(X_test_enc)\n",
    "#Evaluate the prediction\n",
    "accuracy=accuracy_score(y_test_enc, yhat)\n",
    "print(\"Accuracy: %.2f\" %(accuracy*100))"
   ]
  },
  {
   "cell_type": "markdown",
   "metadata": {},
   "source": [
    "## Model using Chi-Squared Features"
   ]
  },
  {
   "cell_type": "code",
   "execution_count": 152,
   "metadata": {},
   "outputs": [
    {
     "name": "stdout",
     "output_type": "stream",
     "text": [
      "Accuracy: 53.03\n"
     ]
    },
    {
     "name": "stderr",
     "output_type": "stream",
     "text": [
      "/Users/selva/enter/envs/torch/lib/python3.11/site-packages/sklearn/utils/validation.py:1143: DataConversionWarning: A column-vector y was passed when a 1d array was expected. Please change the shape of y to (n_samples, ), for example using ravel().\n",
      "  y = column_or_1d(y, warn=True)\n"
     ]
    }
   ],
   "source": [
    "model1=LogisticRegression(solver='lbfgs')\n",
    "\n",
    "#fit the model\n",
    "model1.fit(X_train_fs, y_train_enc)\n",
    "\n",
    "#evaluate the model\n",
    "yhat=model1.predict(X_test_fs)\n",
    "\n",
    "#evaluate the performance\n",
    "accuracy=accuracy_score(y_test_enc,yhat)\n",
    "print(\"Accuracy: %.2f\" %(accuracy*100))"
   ]
  },
  {
   "cell_type": "markdown",
   "metadata": {},
   "source": [
    "## Model using Mutual Information"
   ]
  },
  {
   "cell_type": "code",
   "execution_count": 154,
   "metadata": {},
   "outputs": [
    {
     "name": "stdout",
     "output_type": "stream",
     "text": [
      "Accuracy: 53.03\n"
     ]
    },
    {
     "name": "stderr",
     "output_type": "stream",
     "text": [
      "/Users/selva/enter/envs/torch/lib/python3.11/site-packages/sklearn/utils/validation.py:1143: DataConversionWarning: A column-vector y was passed when a 1d array was expected. Please change the shape of y to (n_samples, ), for example using ravel().\n",
      "  y = column_or_1d(y, warn=True)\n"
     ]
    }
   ],
   "source": [
    "model2=LogisticRegression(solver='lbfgs')\n",
    "\n",
    "#fit the model\n",
    "model2.fit(X_train_fs_2, y_train_enc)\n",
    "\n",
    "#evaluate the model\n",
    "yhat=model2.predict(X_test_fs_2)\n",
    "\n",
    "#evaluate the performance\n",
    "accuracy=accuracy_score(y_test_enc,yhat)\n",
    "print(\"Accuracy: %.2f\" %(accuracy*100))"
   ]
  }
 ],
 "metadata": {
  "kernelspec": {
   "display_name": "Python 3 (ipykernel)",
   "language": "python",
   "name": "python3"
  },
  "language_info": {
   "codemirror_mode": {
    "name": "ipython",
    "version": 3
   },
   "file_extension": ".py",
   "mimetype": "text/x-python",
   "name": "python",
   "nbconvert_exporter": "python",
   "pygments_lexer": "ipython3",
   "version": "3.11.3"
  }
 },
 "nbformat": 4,
 "nbformat_minor": 4
}

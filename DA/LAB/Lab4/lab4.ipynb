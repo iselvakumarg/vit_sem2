{
 "cells": [
  {
   "cell_type": "code",
   "execution_count": 1,
   "metadata": {},
   "outputs": [],
   "source": [
    "import pandas as pd\n",
    "import numpy as np\n",
    "import seaborn as sns"
   ]
  },
  {
   "cell_type": "code",
   "execution_count": 2,
   "metadata": {},
   "outputs": [],
   "source": [
    "data = pd.read_csv('Vaccination_Coverage_among_Pregnant_Women.csv')"
   ]
  },
  {
   "cell_type": "code",
   "execution_count": 3,
   "metadata": {},
   "outputs": [
    {
     "data": {
      "text/html": [
       "<div>\n",
       "<style scoped>\n",
       "    .dataframe tbody tr th:only-of-type {\n",
       "        vertical-align: middle;\n",
       "    }\n",
       "\n",
       "    .dataframe tbody tr th {\n",
       "        vertical-align: top;\n",
       "    }\n",
       "\n",
       "    .dataframe thead th {\n",
       "        text-align: right;\n",
       "    }\n",
       "</style>\n",
       "<table border=\"1\" class=\"dataframe\">\n",
       "  <thead>\n",
       "    <tr style=\"text-align: right;\">\n",
       "      <th></th>\n",
       "      <th>Vaccine</th>\n",
       "      <th>Geography Type</th>\n",
       "      <th>Geography</th>\n",
       "      <th>Survey Year/Influenza Season</th>\n",
       "      <th>Dimension Type</th>\n",
       "      <th>Dimension</th>\n",
       "      <th>Estimate (%)</th>\n",
       "      <th>95% CI (%)</th>\n",
       "      <th>Sample Size</th>\n",
       "    </tr>\n",
       "  </thead>\n",
       "  <tbody>\n",
       "    <tr>\n",
       "      <th>0</th>\n",
       "      <td>Influenza</td>\n",
       "      <td>States</td>\n",
       "      <td>Alaska</td>\n",
       "      <td>2012</td>\n",
       "      <td>Age</td>\n",
       "      <td>≥18 Years</td>\n",
       "      <td>49.2</td>\n",
       "      <td>45.3 to 53.1</td>\n",
       "      <td>852.0</td>\n",
       "    </tr>\n",
       "    <tr>\n",
       "      <th>1</th>\n",
       "      <td>Influenza</td>\n",
       "      <td>States</td>\n",
       "      <td>Arkansas</td>\n",
       "      <td>2012</td>\n",
       "      <td>Age</td>\n",
       "      <td>≥18 Years</td>\n",
       "      <td>46.6</td>\n",
       "      <td>40.7 to 52.5</td>\n",
       "      <td>756.0</td>\n",
       "    </tr>\n",
       "    <tr>\n",
       "      <th>2</th>\n",
       "      <td>Influenza</td>\n",
       "      <td>States</td>\n",
       "      <td>Colorado</td>\n",
       "      <td>2012</td>\n",
       "      <td>Age</td>\n",
       "      <td>≥18 Years</td>\n",
       "      <td>56.1</td>\n",
       "      <td>52.1 to 60.0</td>\n",
       "      <td>1170.0</td>\n",
       "    </tr>\n",
       "    <tr>\n",
       "      <th>3</th>\n",
       "      <td>Influenza</td>\n",
       "      <td>States</td>\n",
       "      <td>Delaware</td>\n",
       "      <td>2012</td>\n",
       "      <td>Age</td>\n",
       "      <td>≥18 Years</td>\n",
       "      <td>41.6</td>\n",
       "      <td>38.4 to 44.8</td>\n",
       "      <td>981.0</td>\n",
       "    </tr>\n",
       "    <tr>\n",
       "      <th>4</th>\n",
       "      <td>Influenza</td>\n",
       "      <td>States</td>\n",
       "      <td>Georgia</td>\n",
       "      <td>2012</td>\n",
       "      <td>Age</td>\n",
       "      <td>≥18 Years</td>\n",
       "      <td>33.6</td>\n",
       "      <td>29.6 to 37.7</td>\n",
       "      <td>1007.0</td>\n",
       "    </tr>\n",
       "  </tbody>\n",
       "</table>\n",
       "</div>"
      ],
      "text/plain": [
       "     Vaccine Geography Type Geography  Survey Year/Influenza Season  \\\n",
       "0  Influenza         States    Alaska                          2012   \n",
       "1  Influenza         States  Arkansas                          2012   \n",
       "2  Influenza         States  Colorado                          2012   \n",
       "3  Influenza         States  Delaware                          2012   \n",
       "4  Influenza         States   Georgia                          2012   \n",
       "\n",
       "  Dimension Type  Dimension Estimate (%)    95% CI (%)  Sample Size  \n",
       "0            Age  ≥18 Years         49.2  45.3 to 53.1        852.0  \n",
       "1            Age  ≥18 Years         46.6  40.7 to 52.5        756.0  \n",
       "2            Age  ≥18 Years         56.1  52.1 to 60.0       1170.0  \n",
       "3            Age  ≥18 Years         41.6  38.4 to 44.8        981.0  \n",
       "4            Age  ≥18 Years         33.6  29.6 to 37.7       1007.0  "
      ]
     },
     "execution_count": 3,
     "metadata": {},
     "output_type": "execute_result"
    }
   ],
   "source": [
    "data.head()"
   ]
  },
  {
   "cell_type": "code",
   "execution_count": 4,
   "metadata": {},
   "outputs": [
    {
     "data": {
      "text/plain": [
       "Index(['Vaccine', 'Geography Type', 'Geography',\n",
       "       'Survey Year/Influenza Season', 'Dimension Type', 'Dimension',\n",
       "       'Estimate (%)', '95% CI (%)', 'Sample Size'],\n",
       "      dtype='object')"
      ]
     },
     "execution_count": 4,
     "metadata": {},
     "output_type": "execute_result"
    }
   ],
   "source": [
    "data.columns"
   ]
  },
  {
   "cell_type": "code",
   "execution_count": 5,
   "metadata": {},
   "outputs": [
    {
     "name": "stdout",
     "output_type": "stream",
     "text": [
      "<class 'pandas.core.frame.DataFrame'>\n",
      "RangeIndex: 4137 entries, 0 to 4136\n",
      "Data columns (total 9 columns):\n",
      " #   Column                        Non-Null Count  Dtype  \n",
      "---  ------                        --------------  -----  \n",
      " 0   Vaccine                       4137 non-null   object \n",
      " 1   Geography Type                4137 non-null   object \n",
      " 2   Geography                     4137 non-null   object \n",
      " 3   Survey Year/Influenza Season  4137 non-null   int64  \n",
      " 4   Dimension Type                4137 non-null   object \n",
      " 5   Dimension                     4137 non-null   object \n",
      " 6   Estimate (%)                  4137 non-null   object \n",
      " 7   95% CI (%)                    4137 non-null   object \n",
      " 8   Sample Size                   3933 non-null   float64\n",
      "dtypes: float64(1), int64(1), object(7)\n",
      "memory usage: 291.0+ KB\n"
     ]
    }
   ],
   "source": [
    "data.info()"
   ]
  },
  {
   "cell_type": "code",
   "execution_count": 6,
   "metadata": {},
   "outputs": [
    {
     "data": {
      "text/plain": [
       "Vaccine                         False\n",
       "Geography Type                  False\n",
       "Geography                       False\n",
       "Survey Year/Influenza Season    False\n",
       "Dimension Type                  False\n",
       "Dimension                       False\n",
       "Estimate (%)                    False\n",
       "95% CI (%)                      False\n",
       "Sample Size                      True\n",
       "dtype: bool"
      ]
     },
     "execution_count": 6,
     "metadata": {},
     "output_type": "execute_result"
    }
   ],
   "source": [
    "data.isnull().any()"
   ]
  },
  {
   "cell_type": "code",
   "execution_count": 7,
   "metadata": {},
   "outputs": [
    {
     "data": {
      "text/plain": [
       "204"
      ]
     },
     "execution_count": 7,
     "metadata": {},
     "output_type": "execute_result"
    }
   ],
   "source": [
    "data.isnull().sum().sum()"
   ]
  },
  {
   "cell_type": "code",
   "execution_count": 8,
   "metadata": {},
   "outputs": [
    {
     "data": {
      "text/plain": [
       "False    3933\n",
       "True      204\n",
       "Name: Sample Size, dtype: int64"
      ]
     },
     "execution_count": 8,
     "metadata": {},
     "output_type": "execute_result"
    }
   ],
   "source": [
    "data['Sample Size'].isnull().value_counts()"
   ]
  },
  {
   "cell_type": "code",
   "execution_count": 12,
   "metadata": {},
   "outputs": [],
   "source": [
    "new_data = data.dropna()"
   ]
  },
  {
   "cell_type": "code",
   "execution_count": 13,
   "metadata": {},
   "outputs": [
    {
     "name": "stdout",
     "output_type": "stream",
     "text": [
      "<class 'pandas.core.frame.DataFrame'>\n",
      "Int64Index: 3933 entries, 0 to 4136\n",
      "Data columns (total 9 columns):\n",
      " #   Column                        Non-Null Count  Dtype  \n",
      "---  ------                        --------------  -----  \n",
      " 0   Vaccine                       3933 non-null   object \n",
      " 1   Geography Type                3933 non-null   object \n",
      " 2   Geography                     3933 non-null   object \n",
      " 3   Survey Year/Influenza Season  3933 non-null   int64  \n",
      " 4   Dimension Type                3933 non-null   object \n",
      " 5   Dimension                     3933 non-null   object \n",
      " 6   Estimate (%)                  3933 non-null   object \n",
      " 7   95% CI (%)                    3933 non-null   object \n",
      " 8   Sample Size                   3933 non-null   float64\n",
      "dtypes: float64(1), int64(1), object(7)\n",
      "memory usage: 307.3+ KB\n"
     ]
    }
   ],
   "source": [
    "new_data.info()"
   ]
  },
  {
   "cell_type": "code",
   "execution_count": 14,
   "metadata": {},
   "outputs": [
    {
     "data": {
      "text/plain": [
       "Vaccine                         0\n",
       "Geography Type                  0\n",
       "Geography                       0\n",
       "Survey Year/Influenza Season    0\n",
       "Dimension Type                  0\n",
       "Dimension                       0\n",
       "Estimate (%)                    0\n",
       "95% CI (%)                      0\n",
       "Sample Size                     0\n",
       "dtype: int64"
      ]
     },
     "execution_count": 14,
     "metadata": {},
     "output_type": "execute_result"
    }
   ],
   "source": [
    "new_data.isnull().sum()"
   ]
  },
  {
   "cell_type": "code",
   "execution_count": 15,
   "metadata": {},
   "outputs": [],
   "source": [
    "new_data2 = data.dropna(how='all')"
   ]
  },
  {
   "cell_type": "code",
   "execution_count": 16,
   "metadata": {},
   "outputs": [
    {
     "name": "stdout",
     "output_type": "stream",
     "text": [
      "<class 'pandas.core.frame.DataFrame'>\n",
      "RangeIndex: 4137 entries, 0 to 4136\n",
      "Data columns (total 9 columns):\n",
      " #   Column                        Non-Null Count  Dtype  \n",
      "---  ------                        --------------  -----  \n",
      " 0   Vaccine                       4137 non-null   object \n",
      " 1   Geography Type                4137 non-null   object \n",
      " 2   Geography                     4137 non-null   object \n",
      " 3   Survey Year/Influenza Season  4137 non-null   int64  \n",
      " 4   Dimension Type                4137 non-null   object \n",
      " 5   Dimension                     4137 non-null   object \n",
      " 6   Estimate (%)                  4137 non-null   object \n",
      " 7   95% CI (%)                    4137 non-null   object \n",
      " 8   Sample Size                   3933 non-null   float64\n",
      "dtypes: float64(1), int64(1), object(7)\n",
      "memory usage: 291.0+ KB\n"
     ]
    }
   ],
   "source": [
    "new_data2.info()"
   ]
  },
  {
   "cell_type": "code",
   "execution_count": 17,
   "metadata": {},
   "outputs": [],
   "source": [
    "new_data3 = new_data.dropna(axis=0)"
   ]
  },
  {
   "cell_type": "code",
   "execution_count": 18,
   "metadata": {},
   "outputs": [
    {
     "name": "stdout",
     "output_type": "stream",
     "text": [
      "<class 'pandas.core.frame.DataFrame'>\n",
      "RangeIndex: 4137 entries, 0 to 4136\n",
      "Data columns (total 9 columns):\n",
      " #   Column                        Non-Null Count  Dtype  \n",
      "---  ------                        --------------  -----  \n",
      " 0   Vaccine                       4137 non-null   object \n",
      " 1   Geography Type                4137 non-null   object \n",
      " 2   Geography                     4137 non-null   object \n",
      " 3   Survey Year/Influenza Season  4137 non-null   int64  \n",
      " 4   Dimension Type                4137 non-null   object \n",
      " 5   Dimension                     4137 non-null   object \n",
      " 6   Estimate (%)                  4137 non-null   object \n",
      " 7   95% CI (%)                    4137 non-null   object \n",
      " 8   Sample Size                   3933 non-null   float64\n",
      "dtypes: float64(1), int64(1), object(7)\n",
      "memory usage: 291.0+ KB\n"
     ]
    }
   ],
   "source": [
    "data.info()"
   ]
  },
  {
   "cell_type": "code",
   "execution_count": null,
   "metadata": {},
   "outputs": [],
   "source": []
  }
 ],
 "metadata": {
  "kernelspec": {
   "display_name": "dlenv",
   "language": "python",
   "name": "python3"
  },
  "language_info": {
   "codemirror_mode": {
    "name": "ipython",
    "version": 3
   },
   "file_extension": ".py",
   "mimetype": "text/x-python",
   "name": "python",
   "nbconvert_exporter": "python",
   "pygments_lexer": "ipython3",
   "version": "3.10.6"
  },
  "orig_nbformat": 4
 },
 "nbformat": 4,
 "nbformat_minor": 2
}

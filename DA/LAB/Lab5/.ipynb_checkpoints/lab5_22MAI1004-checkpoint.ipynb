{
 "cells": [
  {
   "cell_type": "markdown",
   "metadata": {},
   "source": [
    "#### Imports"
   ]
  },
  {
   "cell_type": "code",
   "execution_count": 104,
   "metadata": {},
   "outputs": [],
   "source": [
    "import pandas as pd\n",
    "import numpy as np"
   ]
  },
  {
   "cell_type": "markdown",
   "metadata": {},
   "source": [
    "#### Load Dataset\n",
    "\n",
    "The dataset is collected from Centers of Disease control and prevention [data.cdc.gov](https://www.cdc.gov/) under the category of [Vaccination Coverage among Pregnancy Women](https://data.cdc.gov/Pregnancy-Vaccination/Vaccination-Coverage-among-Pregnant-Women/h7pm-wmjc/data)"
   ]
  },
  {
   "cell_type": "code",
   "execution_count": 105,
   "metadata": {},
   "outputs": [],
   "source": [
    "# Read the data\n",
    "data = pd.read_csv('Vaccination_Coverage_among_Pregnant_Women.csv')"
   ]
  },
  {
   "cell_type": "code",
   "execution_count": 106,
   "metadata": {},
   "outputs": [
    {
     "data": {
      "text/plain": [
       "Index(['Vaccine', 'Geography Type', 'Geography',\n",
       "       'Survey Year/Influenza Season', 'Dimension Type', 'Dimension',\n",
       "       'Estimate (%)', '95% CI (%)', 'Sample Size'],\n",
       "      dtype='object')"
      ]
     },
     "execution_count": 106,
     "metadata": {},
     "output_type": "execute_result"
    }
   ],
   "source": [
    "# Display Features\n",
    "data.columns"
   ]
  },
  {
   "cell_type": "code",
   "execution_count": 107,
   "metadata": {},
   "outputs": [
    {
     "data": {
      "text/html": [
       "<div>\n",
       "<style scoped>\n",
       "    .dataframe tbody tr th:only-of-type {\n",
       "        vertical-align: middle;\n",
       "    }\n",
       "\n",
       "    .dataframe tbody tr th {\n",
       "        vertical-align: top;\n",
       "    }\n",
       "\n",
       "    .dataframe thead th {\n",
       "        text-align: right;\n",
       "    }\n",
       "</style>\n",
       "<table border=\"1\" class=\"dataframe\">\n",
       "  <thead>\n",
       "    <tr style=\"text-align: right;\">\n",
       "      <th></th>\n",
       "      <th>Vaccine</th>\n",
       "      <th>Geography Type</th>\n",
       "      <th>Geography</th>\n",
       "      <th>Survey Year/Influenza Season</th>\n",
       "      <th>Dimension Type</th>\n",
       "      <th>Dimension</th>\n",
       "      <th>Estimate (%)</th>\n",
       "      <th>95% CI (%)</th>\n",
       "      <th>Sample Size</th>\n",
       "    </tr>\n",
       "  </thead>\n",
       "  <tbody>\n",
       "    <tr>\n",
       "      <th>0</th>\n",
       "      <td>Influenza</td>\n",
       "      <td>States</td>\n",
       "      <td>Alaska</td>\n",
       "      <td>2012</td>\n",
       "      <td>Age</td>\n",
       "      <td>≥18 Years</td>\n",
       "      <td>49.2</td>\n",
       "      <td>45.3 to 53.1</td>\n",
       "      <td>852.0</td>\n",
       "    </tr>\n",
       "    <tr>\n",
       "      <th>1</th>\n",
       "      <td>Influenza</td>\n",
       "      <td>States</td>\n",
       "      <td>Arkansas</td>\n",
       "      <td>2012</td>\n",
       "      <td>Age</td>\n",
       "      <td>≥18 Years</td>\n",
       "      <td>46.6</td>\n",
       "      <td>40.7 to 52.5</td>\n",
       "      <td>756.0</td>\n",
       "    </tr>\n",
       "    <tr>\n",
       "      <th>2</th>\n",
       "      <td>Influenza</td>\n",
       "      <td>States</td>\n",
       "      <td>Colorado</td>\n",
       "      <td>2012</td>\n",
       "      <td>Age</td>\n",
       "      <td>≥18 Years</td>\n",
       "      <td>56.1</td>\n",
       "      <td>52.1 to 60.0</td>\n",
       "      <td>1170.0</td>\n",
       "    </tr>\n",
       "    <tr>\n",
       "      <th>3</th>\n",
       "      <td>Influenza</td>\n",
       "      <td>States</td>\n",
       "      <td>Delaware</td>\n",
       "      <td>2012</td>\n",
       "      <td>Age</td>\n",
       "      <td>≥18 Years</td>\n",
       "      <td>41.6</td>\n",
       "      <td>38.4 to 44.8</td>\n",
       "      <td>981.0</td>\n",
       "    </tr>\n",
       "    <tr>\n",
       "      <th>4</th>\n",
       "      <td>Influenza</td>\n",
       "      <td>States</td>\n",
       "      <td>Georgia</td>\n",
       "      <td>2012</td>\n",
       "      <td>Age</td>\n",
       "      <td>≥18 Years</td>\n",
       "      <td>33.6</td>\n",
       "      <td>29.6 to 37.7</td>\n",
       "      <td>1007.0</td>\n",
       "    </tr>\n",
       "    <tr>\n",
       "      <th>...</th>\n",
       "      <td>...</td>\n",
       "      <td>...</td>\n",
       "      <td>...</td>\n",
       "      <td>...</td>\n",
       "      <td>...</td>\n",
       "      <td>...</td>\n",
       "      <td>...</td>\n",
       "      <td>...</td>\n",
       "      <td>...</td>\n",
       "    </tr>\n",
       "    <tr>\n",
       "      <th>4132</th>\n",
       "      <td>Tdap</td>\n",
       "      <td>States</td>\n",
       "      <td>Utah</td>\n",
       "      <td>2020</td>\n",
       "      <td>Race/Ethnicity</td>\n",
       "      <td>White, Non-Hispanic</td>\n",
       "      <td>80.1</td>\n",
       "      <td>77.0 to 83.0</td>\n",
       "      <td>979.0</td>\n",
       "    </tr>\n",
       "    <tr>\n",
       "      <th>4133</th>\n",
       "      <td>Tdap</td>\n",
       "      <td>States</td>\n",
       "      <td>Vermont</td>\n",
       "      <td>2020</td>\n",
       "      <td>Race/Ethnicity</td>\n",
       "      <td>White, Non-Hispanic</td>\n",
       "      <td>86.4</td>\n",
       "      <td>83.6 to 88.9</td>\n",
       "      <td>696.0</td>\n",
       "    </tr>\n",
       "    <tr>\n",
       "      <th>4134</th>\n",
       "      <td>Tdap</td>\n",
       "      <td>States</td>\n",
       "      <td>Virginia</td>\n",
       "      <td>2020</td>\n",
       "      <td>Race/Ethnicity</td>\n",
       "      <td>White, Non-Hispanic</td>\n",
       "      <td>83.1</td>\n",
       "      <td>76.9 to 88.2</td>\n",
       "      <td>503.0</td>\n",
       "    </tr>\n",
       "    <tr>\n",
       "      <th>4135</th>\n",
       "      <td>Tdap</td>\n",
       "      <td>States</td>\n",
       "      <td>Washington</td>\n",
       "      <td>2020</td>\n",
       "      <td>Race/Ethnicity</td>\n",
       "      <td>White, Non-Hispanic</td>\n",
       "      <td>80.9</td>\n",
       "      <td>76.2 to 85.0</td>\n",
       "      <td>352.0</td>\n",
       "    </tr>\n",
       "    <tr>\n",
       "      <th>4136</th>\n",
       "      <td>Tdap</td>\n",
       "      <td>States</td>\n",
       "      <td>Wisconsin</td>\n",
       "      <td>2020</td>\n",
       "      <td>Race/Ethnicity</td>\n",
       "      <td>White, Non-Hispanic</td>\n",
       "      <td>82.8</td>\n",
       "      <td>78.4 to 86.7</td>\n",
       "      <td>364.0</td>\n",
       "    </tr>\n",
       "  </tbody>\n",
       "</table>\n",
       "<p>4137 rows × 9 columns</p>\n",
       "</div>"
      ],
      "text/plain": [
       "        Vaccine Geography Type   Geography  Survey Year/Influenza Season  \\\n",
       "0     Influenza         States      Alaska                          2012   \n",
       "1     Influenza         States    Arkansas                          2012   \n",
       "2     Influenza         States    Colorado                          2012   \n",
       "3     Influenza         States    Delaware                          2012   \n",
       "4     Influenza         States     Georgia                          2012   \n",
       "...         ...            ...         ...                           ...   \n",
       "4132       Tdap         States        Utah                          2020   \n",
       "4133       Tdap         States     Vermont                          2020   \n",
       "4134       Tdap         States    Virginia                          2020   \n",
       "4135       Tdap         States  Washington                          2020   \n",
       "4136       Tdap         States   Wisconsin                          2020   \n",
       "\n",
       "       Dimension Type            Dimension Estimate (%)    95% CI (%)  \\\n",
       "0                 Age            ≥18 Years         49.2  45.3 to 53.1   \n",
       "1                 Age            ≥18 Years         46.6  40.7 to 52.5   \n",
       "2                 Age            ≥18 Years         56.1  52.1 to 60.0   \n",
       "3                 Age            ≥18 Years         41.6  38.4 to 44.8   \n",
       "4                 Age            ≥18 Years         33.6  29.6 to 37.7   \n",
       "...               ...                  ...          ...           ...   \n",
       "4132  Race/Ethnicity   White, Non-Hispanic         80.1  77.0 to 83.0   \n",
       "4133  Race/Ethnicity   White, Non-Hispanic         86.4  83.6 to 88.9   \n",
       "4134  Race/Ethnicity   White, Non-Hispanic         83.1  76.9 to 88.2   \n",
       "4135  Race/Ethnicity   White, Non-Hispanic         80.9  76.2 to 85.0   \n",
       "4136  Race/Ethnicity   White, Non-Hispanic         82.8  78.4 to 86.7   \n",
       "\n",
       "      Sample Size  \n",
       "0           852.0  \n",
       "1           756.0  \n",
       "2          1170.0  \n",
       "3           981.0  \n",
       "4          1007.0  \n",
       "...           ...  \n",
       "4132        979.0  \n",
       "4133        696.0  \n",
       "4134        503.0  \n",
       "4135        352.0  \n",
       "4136        364.0  \n",
       "\n",
       "[4137 rows x 9 columns]"
      ]
     },
     "execution_count": 107,
     "metadata": {},
     "output_type": "execute_result"
    }
   ],
   "source": [
    "# Display Values\n",
    "data"
   ]
  },
  {
   "cell_type": "code",
   "execution_count": 108,
   "metadata": {},
   "outputs": [
    {
     "data": {
      "text/plain": [
       "(4137, 9)"
      ]
     },
     "execution_count": 108,
     "metadata": {},
     "output_type": "execute_result"
    }
   ],
   "source": [
    "# Display Dimension\n",
    "data.shape"
   ]
  },
  {
   "attachments": {},
   "cell_type": "markdown",
   "metadata": {},
   "source": [
    "## Handling Missing Data"
   ]
  },
  {
   "cell_type": "code",
   "execution_count": 109,
   "metadata": {},
   "outputs": [
    {
     "name": "stdout",
     "output_type": "stream",
     "text": [
      "<class 'pandas.core.frame.DataFrame'>\n",
      "RangeIndex: 4137 entries, 0 to 4136\n",
      "Data columns (total 9 columns):\n",
      " #   Column                        Non-Null Count  Dtype  \n",
      "---  ------                        --------------  -----  \n",
      " 0   Vaccine                       4137 non-null   object \n",
      " 1   Geography Type                4137 non-null   object \n",
      " 2   Geography                     4137 non-null   object \n",
      " 3   Survey Year/Influenza Season  4137 non-null   int64  \n",
      " 4   Dimension Type                4137 non-null   object \n",
      " 5   Dimension                     4137 non-null   object \n",
      " 6   Estimate (%)                  4137 non-null   object \n",
      " 7   95% CI (%)                    4137 non-null   object \n",
      " 8   Sample Size                   3933 non-null   float64\n",
      "dtypes: float64(1), int64(1), object(7)\n",
      "memory usage: 291.0+ KB\n"
     ]
    }
   ],
   "source": [
    "# Display Information\n",
    "data.info()"
   ]
  },
  {
   "cell_type": "code",
   "execution_count": 110,
   "metadata": {},
   "outputs": [
    {
     "data": {
      "text/plain": [
       "Influenza    2891\n",
       "Tdap         1246\n",
       "Name: Vaccine, dtype: int64"
      ]
     },
     "execution_count": 110,
     "metadata": {},
     "output_type": "execute_result"
    }
   ],
   "source": [
    "# Display the Unique values in the vaccine columns\n",
    "data['Vaccine'].value_counts()"
   ]
  },
  {
   "cell_type": "code",
   "execution_count": 111,
   "metadata": {},
   "outputs": [
    {
     "data": {
      "text/html": [
       "<div>\n",
       "<style scoped>\n",
       "    .dataframe tbody tr th:only-of-type {\n",
       "        vertical-align: middle;\n",
       "    }\n",
       "\n",
       "    .dataframe tbody tr th {\n",
       "        vertical-align: top;\n",
       "    }\n",
       "\n",
       "    .dataframe thead th {\n",
       "        text-align: right;\n",
       "    }\n",
       "</style>\n",
       "<table border=\"1\" class=\"dataframe\">\n",
       "  <thead>\n",
       "    <tr style=\"text-align: right;\">\n",
       "      <th></th>\n",
       "      <th>Vaccine</th>\n",
       "      <th>Geography Type</th>\n",
       "      <th>Geography</th>\n",
       "      <th>Survey Year/Influenza Season</th>\n",
       "      <th>Dimension Type</th>\n",
       "      <th>Dimension</th>\n",
       "      <th>Estimate (%)</th>\n",
       "      <th>95% CI (%)</th>\n",
       "      <th>Sample Size</th>\n",
       "    </tr>\n",
       "  </thead>\n",
       "  <tbody>\n",
       "    <tr>\n",
       "      <th>0</th>\n",
       "      <td>Influenza</td>\n",
       "      <td>States</td>\n",
       "      <td>Alaska</td>\n",
       "      <td>2012</td>\n",
       "      <td>Age</td>\n",
       "      <td>≥18 Years</td>\n",
       "      <td>49.2</td>\n",
       "      <td>45.3 to 53.1</td>\n",
       "      <td>852.0</td>\n",
       "    </tr>\n",
       "    <tr>\n",
       "      <th>1</th>\n",
       "      <td>Influenza</td>\n",
       "      <td>States</td>\n",
       "      <td>Arkansas</td>\n",
       "      <td>2012</td>\n",
       "      <td>Age</td>\n",
       "      <td>≥18 Years</td>\n",
       "      <td>46.6</td>\n",
       "      <td>40.7 to 52.5</td>\n",
       "      <td>756.0</td>\n",
       "    </tr>\n",
       "    <tr>\n",
       "      <th>2</th>\n",
       "      <td>Influenza</td>\n",
       "      <td>States</td>\n",
       "      <td>Colorado</td>\n",
       "      <td>2012</td>\n",
       "      <td>Age</td>\n",
       "      <td>≥18 Years</td>\n",
       "      <td>56.1</td>\n",
       "      <td>52.1 to 60.0</td>\n",
       "      <td>1170.0</td>\n",
       "    </tr>\n",
       "  </tbody>\n",
       "</table>\n",
       "</div>"
      ],
      "text/plain": [
       "     Vaccine Geography Type Geography  Survey Year/Influenza Season  \\\n",
       "0  Influenza         States    Alaska                          2012   \n",
       "1  Influenza         States  Arkansas                          2012   \n",
       "2  Influenza         States  Colorado                          2012   \n",
       "\n",
       "  Dimension Type  Dimension Estimate (%)    95% CI (%)  Sample Size  \n",
       "0            Age  ≥18 Years         49.2  45.3 to 53.1        852.0  \n",
       "1            Age  ≥18 Years         46.6  40.7 to 52.5        756.0  \n",
       "2            Age  ≥18 Years         56.1  52.1 to 60.0       1170.0  "
      ]
     },
     "execution_count": 111,
     "metadata": {},
     "output_type": "execute_result"
    }
   ],
   "source": [
    "# Display top 3 values\n",
    "data.head(3)"
   ]
  },
  {
   "cell_type": "code",
   "execution_count": 112,
   "metadata": {},
   "outputs": [
    {
     "data": {
      "text/plain": [
       "array([2012, 2020, 2013, 2014, 2015, 2016, 2017, 2018, 2019])"
      ]
     },
     "execution_count": 112,
     "metadata": {},
     "output_type": "execute_result"
    }
   ],
   "source": [
    "# Return the unique values in the Survey year column. It is best to use when the values are limited.\n",
    "data['Survey Year/Influenza Season'].unique()"
   ]
  },
  {
   "cell_type": "code",
   "execution_count": 113,
   "metadata": {},
   "outputs": [],
   "source": [
    "# Make a new copy\n",
    "new_data = data.copy()"
   ]
  },
  {
   "cell_type": "code",
   "execution_count": 114,
   "metadata": {},
   "outputs": [
    {
     "data": {
      "text/plain": [
       "Vaccine                           0\n",
       "Geography Type                    0\n",
       "Geography                         0\n",
       "Survey Year/Influenza Season      0\n",
       "Dimension Type                    0\n",
       "Dimension                         0\n",
       "Estimate (%)                      0\n",
       "95% CI (%)                        0\n",
       "Sample Size                     204\n",
       "dtype: int64"
      ]
     },
     "execution_count": 114,
     "metadata": {},
     "output_type": "execute_result"
    }
   ],
   "source": [
    "# Display the presence of missing values\n",
    "new_data.isnull().sum()"
   ]
  },
  {
   "cell_type": "code",
   "execution_count": 115,
   "metadata": {},
   "outputs": [
    {
     "data": {
      "text/html": [
       "<div>\n",
       "<style scoped>\n",
       "    .dataframe tbody tr th:only-of-type {\n",
       "        vertical-align: middle;\n",
       "    }\n",
       "\n",
       "    .dataframe tbody tr th {\n",
       "        vertical-align: top;\n",
       "    }\n",
       "\n",
       "    .dataframe thead th {\n",
       "        text-align: right;\n",
       "    }\n",
       "</style>\n",
       "<table border=\"1\" class=\"dataframe\">\n",
       "  <thead>\n",
       "    <tr style=\"text-align: right;\">\n",
       "      <th></th>\n",
       "      <th>Survey Year/Influenza Season</th>\n",
       "      <th>Sample Size</th>\n",
       "    </tr>\n",
       "  </thead>\n",
       "  <tbody>\n",
       "    <tr>\n",
       "      <th>count</th>\n",
       "      <td>4137.000000</td>\n",
       "      <td>3933.000000</td>\n",
       "    </tr>\n",
       "    <tr>\n",
       "      <th>mean</th>\n",
       "      <td>2016.230602</td>\n",
       "      <td>805.390796</td>\n",
       "    </tr>\n",
       "    <tr>\n",
       "      <th>std</th>\n",
       "      <td>2.663058</td>\n",
       "      <td>2658.305251</td>\n",
       "    </tr>\n",
       "    <tr>\n",
       "      <th>min</th>\n",
       "      <td>2012.000000</td>\n",
       "      <td>30.000000</td>\n",
       "    </tr>\n",
       "    <tr>\n",
       "      <th>25%</th>\n",
       "      <td>2014.000000</td>\n",
       "      <td>169.000000</td>\n",
       "    </tr>\n",
       "    <tr>\n",
       "      <th>50%</th>\n",
       "      <td>2017.000000</td>\n",
       "      <td>325.000000</td>\n",
       "    </tr>\n",
       "    <tr>\n",
       "      <th>75%</th>\n",
       "      <td>2019.000000</td>\n",
       "      <td>659.000000</td>\n",
       "    </tr>\n",
       "    <tr>\n",
       "      <th>max</th>\n",
       "      <td>2020.000000</td>\n",
       "      <td>43737.000000</td>\n",
       "    </tr>\n",
       "  </tbody>\n",
       "</table>\n",
       "</div>"
      ],
      "text/plain": [
       "       Survey Year/Influenza Season   Sample Size\n",
       "count                   4137.000000   3933.000000\n",
       "mean                    2016.230602    805.390796\n",
       "std                        2.663058   2658.305251\n",
       "min                     2012.000000     30.000000\n",
       "25%                     2014.000000    169.000000\n",
       "50%                     2017.000000    325.000000\n",
       "75%                     2019.000000    659.000000\n",
       "max                     2020.000000  43737.000000"
      ]
     },
     "execution_count": 115,
     "metadata": {},
     "output_type": "execute_result"
    }
   ],
   "source": [
    "new_data.describe()"
   ]
  },
  {
   "cell_type": "code",
   "execution_count": 116,
   "metadata": {},
   "outputs": [
    {
     "data": {
      "text/plain": [
       "str"
      ]
     },
     "execution_count": 116,
     "metadata": {},
     "output_type": "execute_result"
    }
   ],
   "source": [
    "type(new_data['Estimate (%)'][0])"
   ]
  },
  {
   "attachments": {},
   "cell_type": "markdown",
   "metadata": {},
   "source": [
    "By using the Unique i get to find that there is a null value in the Estimate column even though it is not visible in the isnull() function. Because isnull() works on NaN and empty values better"
   ]
  },
  {
   "cell_type": "code",
   "execution_count": 117,
   "metadata": {},
   "outputs": [
    {
     "data": {
      "text/plain": [
       "array(['49.2', '46.6', '56.1', '41.6', '33.6', '42.0', '49.1', '53.0',\n",
       "       '47.9', '66.1', '42.8', '66.0', '45.5', '58.8', '38.6', '37.8',\n",
       "       '39.5', '43.6', '54.3', '47.3', '47.4', '60.4', '44.1', '48.9',\n",
       "       '57.5', '60.9', '43.4', '58.6', '39.1', '49.6', '64.0', '57.3',\n",
       "       '58.2', '74.7', '73.5', '62.9', '73.1', '41.3', '40.9', '68.7',\n",
       "       '65.1', '77.1', '71.2', '53.7', '72.4', '70.5', '79.8', '58.4',\n",
       "       '68.2', '48.1', '64.8', '68.5', '76.0', '75.0', '60.8', '67.6',\n",
       "       '65.0', '74.1', '67.1', '64.5', '34.8', '61.1', '76.1', '54.9',\n",
       "       '67.2', '64.4', '74.0', '64.7', '70.7', '63.3', '39.0', '51.3',\n",
       "       '33.4', '27.6', '38.5', '42.5', '49.0', '41.0', '51.0', '37.0',\n",
       "       '59.4', '32.6', '51.6', '30.7', '50.6', '29.5', '50.0', '38.1',\n",
       "       '39.8', '56.7', '38.9', '41.9', '51.7', '53.2', '39.7', '52.4',\n",
       "       '32.0', '40.5', '66.8', '56.4', '67.8', '63.5', '51.1', '49.7',\n",
       "       '25.9', '29.9', '72.5', '50.3', '73.3', '43.9', '40.4', '69.5',\n",
       "       '58.3', '67.0', '45.1', 'NR*', '37.3', '60.1', '65.3', '55.2',\n",
       "       '65.6', '58.0', '69.9', '62.8', '38.3', '50.2', '65.2', '51.5',\n",
       "       '70.2', '59.1', '58.7', '61.7', '48.3', '46.9', '35.7', '42.6',\n",
       "       '48.5', '53.1', '49.9', '45.4', '66.4', '51.8', '60.7', '40.1',\n",
       "       '48.7', '37.7', '44.4', '46.7', '54.7', '49.8', '61.4', '45.2',\n",
       "       '58.5', '64.9', '57.9', '53.4', '62.7', '57.8', '74.6', '74.8',\n",
       "       '64.2', '67.4', '42.9', '72.6', '57.4', '57.1', '72.2', '79.1',\n",
       "       '61.6', '68.6', '65.9', '69.8', '77.9', '76.8', '68.4', '67.5',\n",
       "       '31.2', '75.6', '69.4', '73.2', '73.8', '65.5', '39.4', '37.4',\n",
       "       '44.7', '60.0', '50.5', '68.1', '72.9', '54.1', '40.7', '46.2',\n",
       "       '45.6', '52.1', '62.5', '64.1', '57.2', '61.0', '82.0', '76.4',\n",
       "       '71.1', '90.8', '50.9', '50.8', '71.6', '72.1', '81.7', '77.6',\n",
       "       '59.8', '75.1', '69.6', '85.8', '63.8', '57.6', '66.7', '75.9',\n",
       "       '77.7', '68.8', '77.2', '65.4', '80.5', '66.9', '76.9', '78.5',\n",
       "       '70.0', '28.3', '20.3', '37.5', '39.6', '33.8', '60.2', '35.3',\n",
       "       '50.1', '33.1', '26.5', '41.7', '48.8', '56.0', '36.1', '56.5',\n",
       "       '29.2', '63.4', '64.3', '54.4', '45.7', '24.8', '23.3', '36.2',\n",
       "       '62.6', '53.5', '59.2', '34.7', '53.8', '44.6', '55.9', '48.4',\n",
       "       '77.0', '35.6', '45.9', '53.3', '30.6', '47.7', '35.0', '46.8',\n",
       "       '41.4', '36.3', '51.9', '67.7', '59.5', '61.5', '57.0', '68.3',\n",
       "       '90.9', '36.0', '32.9', '61.9', '76.3', '71.3', '80.4', '34.5',\n",
       "       '71.0', '45.3', '40.2', '63.7', '37.6', '43.5', '47.0', '69.3',\n",
       "       '61.3', '78.0', '83.9', '82.6', '81.3', '71.5', '70.8', '56.2',\n",
       "       '43.3', '44.2', '29.8', '52.2', '51.4', '44.0', '59.7', '40.8',\n",
       "       '46.5', '55.3', '46.4', '49.5', '43.8', '59.3', '38.7', '74.9',\n",
       "       '78.4', '95.1', '69.7', '79.6', '54.0', '80.8', '70.3', '53.9',\n",
       "       '70.9', '76.6', '63.9', '77.3', '64.6', '73.4', '23.4', '55.4',\n",
       "       '48.2', '43.2', '54.6', '72.7', '58.1', '62.4', '50.4', '65.7',\n",
       "       '42.4', '61.8', '52.3', '65.8', '60.6', '52.5', '63.2', '55.5',\n",
       "       '52.8', '54.8', '75.7', '59.6', '66.3', '59.9', '66.5', '57.7',\n",
       "       '45.8', '52.9', '52.0', '56.3', '58.9', '47.5', '62.3', '73.7',\n",
       "       '51.2', '75.5', '55.0', '59.0', '70.4', '70.1', '25.0', '75.3',\n",
       "       '72.0', '40.3', '61.2', '55.7', '49.4', '70.6', '31.0', '74.3',\n",
       "       '72.3', '48.0', '69.2', '56.8', '66.2', '73.9', '82.2', '14.7',\n",
       "       '44.3', '60.3', '40.6', '43.0', '46.3', '42.2', '60.5', '39.2',\n",
       "       '56.9', '36.5', '54.2', '47.6', '38.2', '68.0', '35.4', '53.6',\n",
       "       '54.5', '36.6', '63.0', '33.5', '55.1', '30.5', '41.1', '35.8',\n",
       "       '71.4', '29.3', '36.8', '36.9', '69.0', '44.8', '76.7', '55.8',\n",
       "       '41.5', '25.3', '71.8', '62.1', '79.2', '69.1', '47.2', '50.7',\n",
       "       '73.0', '67.9', '75.4', '62.2', '52.6', '52.7', '55.6', '75.2',\n",
       "       '67.3', '63.1', '46.1', '63.6', '21.7', '68.9', '41.8', '78.1',\n",
       "       '56.6', '71.7', '32.3', '81.5', '20.1', '76.5', '73.6', '81.6',\n",
       "       '77.4', '74.5', '20.7', '44.9', '82.1', '49.3', '81.4', '78.7',\n",
       "       '17.1', '83.3', '81.9', '78.2', '82.9', '62.0', '87.1', '78.8',\n",
       "       '72.8', '16.6', '39.9', '40.0', '30.8', '79.7', '34.0', '48.6',\n",
       "       '35.9', '83.5', '79.4', '38.0', '43.1', '24.7', '42.1', '27.8',\n",
       "       '26.6', '38.4', '44.5', '66.6', '75.8', '74.2', '25.2', '86.8',\n",
       "       '71.9', '76.2', '84.4', '42.3', '84.6', '85.0', '79.3', '83.0',\n",
       "       '80.3', '81.8', '84.2', '78.6', '80.2', '29.6', '87.0', '91.5',\n",
       "       '42.7', '79.5', '82.7', '20.5', '8.2', '15.5', '14.0', '15.8',\n",
       "       '9.1', '18.8', '25.6', '31.3', '26.4', '27.1', '28.0', '32.8',\n",
       "       '47.8', '84.1', '86.5', '86.0', '74.4', '81.2', '83.6', '88.6',\n",
       "       '85.6', '83.2', '90.2', '86.9', '85.9', '86.3', '89.5', '85.1',\n",
       "       '82.8', '78.9', '88.4', '86.1', '87.7', '89.2', '87.2', '90.4',\n",
       "       '81.0', '86.2', '83.7', '21.6', '7.7', '12.1', '18.3', '14.5',\n",
       "       '15.1', '25.5', '20.4', '25.4', '29.7', '39.3', '84.7', '86.7',\n",
       "       '77.5', '91.6', '87.9', '77.8', '80.9', '87.3', '85.3', '83.8',\n",
       "       '89.3', '87.4', '87.6', '89.7', '90.1', '18.7', '8.4', '15.9',\n",
       "       '10.8', '18.0', '8.1', '14.3', '23.1', '26.8', '31.6', '27.0',\n",
       "       '46.0', '84.0', '80.7', '83.4', '88.1', '84.5', '81.1', '90.0',\n",
       "       '80.0', '88.0', '84.8', '84.3', '82.3', '89.1', '85.5', '89.0',\n",
       "       '88.2', '92.1', '83.1', '24.9', '8.5', '19.0', '17.7', '15.7',\n",
       "       '21.4', '13.8', '25.7', '23.9', '30.9', '24.1', '88.5', '91.7',\n",
       "       '90.6', '87.5', '91.8', '82.4', '84.9', '87.8', '89.6', '80.6',\n",
       "       '11.2', '21.8', '31.1', '29.0', '19.9', '32.7', '79.0', '18.5',\n",
       "       '26.7', '22.9', '30.3', '37.2', '85.7', '88.7', '86.4', '91.3',\n",
       "       '79.9', '85.4', '14.9', '23.6', '80.1', '93.7', '82.5', '93.0',\n",
       "       '98.2', '88.8', '18.6', '5.2', '13.7', '13.6', '13.4', '26.2',\n",
       "       '27.9', '31.4', '47.1', '91.0', '91.4', '78.3', '89.9'],\n",
       "      dtype=object)"
      ]
     },
     "execution_count": 117,
     "metadata": {},
     "output_type": "execute_result"
    }
   ],
   "source": [
    "new_data['Estimate (%)'].unique()"
   ]
  },
  {
   "cell_type": "code",
   "execution_count": 118,
   "metadata": {},
   "outputs": [],
   "source": [
    "# There is some unwanted values so replacing it with NaN for easy cleaning of data\n",
    "new_data['Estimate (%)'] = new_data['Estimate (%)'].replace('NR*', 'NaN')"
   ]
  },
  {
   "cell_type": "code",
   "execution_count": 119,
   "metadata": {},
   "outputs": [
    {
     "data": {
      "text/plain": [
       "array(['49.2', '46.6', '56.1', '41.6', '33.6', '42.0', '49.1', '53.0',\n",
       "       '47.9', '66.1', '42.8', '66.0', '45.5', '58.8', '38.6', '37.8',\n",
       "       '39.5', '43.6', '54.3', '47.3', '47.4', '60.4', '44.1', '48.9',\n",
       "       '57.5', '60.9', '43.4', '58.6', '39.1', '49.6', '64.0', '57.3',\n",
       "       '58.2', '74.7', '73.5', '62.9', '73.1', '41.3', '40.9', '68.7',\n",
       "       '65.1', '77.1', '71.2', '53.7', '72.4', '70.5', '79.8', '58.4',\n",
       "       '68.2', '48.1', '64.8', '68.5', '76.0', '75.0', '60.8', '67.6',\n",
       "       '65.0', '74.1', '67.1', '64.5', '34.8', '61.1', '76.1', '54.9',\n",
       "       '67.2', '64.4', '74.0', '64.7', '70.7', '63.3', '39.0', '51.3',\n",
       "       '33.4', '27.6', '38.5', '42.5', '49.0', '41.0', '51.0', '37.0',\n",
       "       '59.4', '32.6', '51.6', '30.7', '50.6', '29.5', '50.0', '38.1',\n",
       "       '39.8', '56.7', '38.9', '41.9', '51.7', '53.2', '39.7', '52.4',\n",
       "       '32.0', '40.5', '66.8', '56.4', '67.8', '63.5', '51.1', '49.7',\n",
       "       '25.9', '29.9', '72.5', '50.3', '73.3', '43.9', '40.4', '69.5',\n",
       "       '58.3', '67.0', '45.1', 'NaN', '37.3', '60.1', '65.3', '55.2',\n",
       "       '65.6', '58.0', '69.9', '62.8', '38.3', '50.2', '65.2', '51.5',\n",
       "       '70.2', '59.1', '58.7', '61.7', '48.3', '46.9', '35.7', '42.6',\n",
       "       '48.5', '53.1', '49.9', '45.4', '66.4', '51.8', '60.7', '40.1',\n",
       "       '48.7', '37.7', '44.4', '46.7', '54.7', '49.8', '61.4', '45.2',\n",
       "       '58.5', '64.9', '57.9', '53.4', '62.7', '57.8', '74.6', '74.8',\n",
       "       '64.2', '67.4', '42.9', '72.6', '57.4', '57.1', '72.2', '79.1',\n",
       "       '61.6', '68.6', '65.9', '69.8', '77.9', '76.8', '68.4', '67.5',\n",
       "       '31.2', '75.6', '69.4', '73.2', '73.8', '65.5', '39.4', '37.4',\n",
       "       '44.7', '60.0', '50.5', '68.1', '72.9', '54.1', '40.7', '46.2',\n",
       "       '45.6', '52.1', '62.5', '64.1', '57.2', '61.0', '82.0', '76.4',\n",
       "       '71.1', '90.8', '50.9', '50.8', '71.6', '72.1', '81.7', '77.6',\n",
       "       '59.8', '75.1', '69.6', '85.8', '63.8', '57.6', '66.7', '75.9',\n",
       "       '77.7', '68.8', '77.2', '65.4', '80.5', '66.9', '76.9', '78.5',\n",
       "       '70.0', '28.3', '20.3', '37.5', '39.6', '33.8', '60.2', '35.3',\n",
       "       '50.1', '33.1', '26.5', '41.7', '48.8', '56.0', '36.1', '56.5',\n",
       "       '29.2', '63.4', '64.3', '54.4', '45.7', '24.8', '23.3', '36.2',\n",
       "       '62.6', '53.5', '59.2', '34.7', '53.8', '44.6', '55.9', '48.4',\n",
       "       '77.0', '35.6', '45.9', '53.3', '30.6', '47.7', '35.0', '46.8',\n",
       "       '41.4', '36.3', '51.9', '67.7', '59.5', '61.5', '57.0', '68.3',\n",
       "       '90.9', '36.0', '32.9', '61.9', '76.3', '71.3', '80.4', '34.5',\n",
       "       '71.0', '45.3', '40.2', '63.7', '37.6', '43.5', '47.0', '69.3',\n",
       "       '61.3', '78.0', '83.9', '82.6', '81.3', '71.5', '70.8', '56.2',\n",
       "       '43.3', '44.2', '29.8', '52.2', '51.4', '44.0', '59.7', '40.8',\n",
       "       '46.5', '55.3', '46.4', '49.5', '43.8', '59.3', '38.7', '74.9',\n",
       "       '78.4', '95.1', '69.7', '79.6', '54.0', '80.8', '70.3', '53.9',\n",
       "       '70.9', '76.6', '63.9', '77.3', '64.6', '73.4', '23.4', '55.4',\n",
       "       '48.2', '43.2', '54.6', '72.7', '58.1', '62.4', '50.4', '65.7',\n",
       "       '42.4', '61.8', '52.3', '65.8', '60.6', '52.5', '63.2', '55.5',\n",
       "       '52.8', '54.8', '75.7', '59.6', '66.3', '59.9', '66.5', '57.7',\n",
       "       '45.8', '52.9', '52.0', '56.3', '58.9', '47.5', '62.3', '73.7',\n",
       "       '51.2', '75.5', '55.0', '59.0', '70.4', '70.1', '25.0', '75.3',\n",
       "       '72.0', '40.3', '61.2', '55.7', '49.4', '70.6', '31.0', '74.3',\n",
       "       '72.3', '48.0', '69.2', '56.8', '66.2', '73.9', '82.2', '14.7',\n",
       "       '44.3', '60.3', '40.6', '43.0', '46.3', '42.2', '60.5', '39.2',\n",
       "       '56.9', '36.5', '54.2', '47.6', '38.2', '68.0', '35.4', '53.6',\n",
       "       '54.5', '36.6', '63.0', '33.5', '55.1', '30.5', '41.1', '35.8',\n",
       "       '71.4', '29.3', '36.8', '36.9', '69.0', '44.8', '76.7', '55.8',\n",
       "       '41.5', '25.3', '71.8', '62.1', '79.2', '69.1', '47.2', '50.7',\n",
       "       '73.0', '67.9', '75.4', '62.2', '52.6', '52.7', '55.6', '75.2',\n",
       "       '67.3', '63.1', '46.1', '63.6', '21.7', '68.9', '41.8', '78.1',\n",
       "       '56.6', '71.7', '32.3', '81.5', '20.1', '76.5', '73.6', '81.6',\n",
       "       '77.4', '74.5', '20.7', '44.9', '82.1', '49.3', '81.4', '78.7',\n",
       "       '17.1', '83.3', '81.9', '78.2', '82.9', '62.0', '87.1', '78.8',\n",
       "       '72.8', '16.6', '39.9', '40.0', '30.8', '79.7', '34.0', '48.6',\n",
       "       '35.9', '83.5', '79.4', '38.0', '43.1', '24.7', '42.1', '27.8',\n",
       "       '26.6', '38.4', '44.5', '66.6', '75.8', '74.2', '25.2', '86.8',\n",
       "       '71.9', '76.2', '84.4', '42.3', '84.6', '85.0', '79.3', '83.0',\n",
       "       '80.3', '81.8', '84.2', '78.6', '80.2', '29.6', '87.0', '91.5',\n",
       "       '42.7', '79.5', '82.7', '20.5', '8.2', '15.5', '14.0', '15.8',\n",
       "       '9.1', '18.8', '25.6', '31.3', '26.4', '27.1', '28.0', '32.8',\n",
       "       '47.8', '84.1', '86.5', '86.0', '74.4', '81.2', '83.6', '88.6',\n",
       "       '85.6', '83.2', '90.2', '86.9', '85.9', '86.3', '89.5', '85.1',\n",
       "       '82.8', '78.9', '88.4', '86.1', '87.7', '89.2', '87.2', '90.4',\n",
       "       '81.0', '86.2', '83.7', '21.6', '7.7', '12.1', '18.3', '14.5',\n",
       "       '15.1', '25.5', '20.4', '25.4', '29.7', '39.3', '84.7', '86.7',\n",
       "       '77.5', '91.6', '87.9', '77.8', '80.9', '87.3', '85.3', '83.8',\n",
       "       '89.3', '87.4', '87.6', '89.7', '90.1', '18.7', '8.4', '15.9',\n",
       "       '10.8', '18.0', '8.1', '14.3', '23.1', '26.8', '31.6', '27.0',\n",
       "       '46.0', '84.0', '80.7', '83.4', '88.1', '84.5', '81.1', '90.0',\n",
       "       '80.0', '88.0', '84.8', '84.3', '82.3', '89.1', '85.5', '89.0',\n",
       "       '88.2', '92.1', '83.1', '24.9', '8.5', '19.0', '17.7', '15.7',\n",
       "       '21.4', '13.8', '25.7', '23.9', '30.9', '24.1', '88.5', '91.7',\n",
       "       '90.6', '87.5', '91.8', '82.4', '84.9', '87.8', '89.6', '80.6',\n",
       "       '11.2', '21.8', '31.1', '29.0', '19.9', '32.7', '79.0', '18.5',\n",
       "       '26.7', '22.9', '30.3', '37.2', '85.7', '88.7', '86.4', '91.3',\n",
       "       '79.9', '85.4', '14.9', '23.6', '80.1', '93.7', '82.5', '93.0',\n",
       "       '98.2', '88.8', '18.6', '5.2', '13.7', '13.6', '13.4', '26.2',\n",
       "       '27.9', '31.4', '47.1', '91.0', '91.4', '78.3', '89.9'],\n",
       "      dtype=object)"
      ]
     },
     "execution_count": 119,
     "metadata": {},
     "output_type": "execute_result"
    }
   ],
   "source": [
    "new_data['Estimate (%)'].unique()"
   ]
  },
  {
   "cell_type": "code",
   "execution_count": 120,
   "metadata": {},
   "outputs": [],
   "source": [
    "new_data['Estimate (%)'] = new_data['Estimate (%)'].dropna()"
   ]
  },
  {
   "cell_type": "code",
   "execution_count": 121,
   "metadata": {},
   "outputs": [],
   "source": [
    "# The column is in str so typecasting it to float for numerical computations\n",
    "new_data['Estimate (%)'] = new_data['Estimate (%)'].astype(float)"
   ]
  },
  {
   "cell_type": "code",
   "execution_count": 122,
   "metadata": {},
   "outputs": [
    {
     "data": {
      "text/plain": [
       "49.2"
      ]
     },
     "execution_count": 122,
     "metadata": {},
     "output_type": "execute_result"
    }
   ],
   "source": [
    "new_data['Estimate (%)'][0]"
   ]
  },
  {
   "cell_type": "code",
   "execution_count": 123,
   "metadata": {},
   "outputs": [
    {
     "name": "stdout",
     "output_type": "stream",
     "text": [
      "<class 'pandas.core.frame.DataFrame'>\n",
      "RangeIndex: 4137 entries, 0 to 4136\n",
      "Data columns (total 9 columns):\n",
      " #   Column                        Non-Null Count  Dtype  \n",
      "---  ------                        --------------  -----  \n",
      " 0   Vaccine                       4137 non-null   object \n",
      " 1   Geography Type                4137 non-null   object \n",
      " 2   Geography                     4137 non-null   object \n",
      " 3   Survey Year/Influenza Season  4137 non-null   int64  \n",
      " 4   Dimension Type                4137 non-null   object \n",
      " 5   Dimension                     4137 non-null   object \n",
      " 6   Estimate (%)                  3715 non-null   float64\n",
      " 7   95% CI (%)                    4137 non-null   object \n",
      " 8   Sample Size                   3933 non-null   float64\n",
      "dtypes: float64(2), int64(1), object(6)\n",
      "memory usage: 291.0+ KB\n"
     ]
    }
   ],
   "source": [
    "new_data.info()"
   ]
  },
  {
   "cell_type": "code",
   "execution_count": 124,
   "metadata": {},
   "outputs": [],
   "source": [
    "# Dropping all the null values\n",
    "new_data = new_data.dropna()"
   ]
  },
  {
   "cell_type": "code",
   "execution_count": 125,
   "metadata": {},
   "outputs": [
    {
     "name": "stdout",
     "output_type": "stream",
     "text": [
      "<class 'pandas.core.frame.DataFrame'>\n",
      "Int64Index: 3715 entries, 0 to 4136\n",
      "Data columns (total 9 columns):\n",
      " #   Column                        Non-Null Count  Dtype  \n",
      "---  ------                        --------------  -----  \n",
      " 0   Vaccine                       3715 non-null   object \n",
      " 1   Geography Type                3715 non-null   object \n",
      " 2   Geography                     3715 non-null   object \n",
      " 3   Survey Year/Influenza Season  3715 non-null   int64  \n",
      " 4   Dimension Type                3715 non-null   object \n",
      " 5   Dimension                     3715 non-null   object \n",
      " 6   Estimate (%)                  3715 non-null   float64\n",
      " 7   95% CI (%)                    3715 non-null   object \n",
      " 8   Sample Size                   3715 non-null   float64\n",
      "dtypes: float64(2), int64(1), object(6)\n",
      "memory usage: 290.2+ KB\n"
     ]
    }
   ],
   "source": [
    "new_data.info()"
   ]
  },
  {
   "attachments": {},
   "cell_type": "markdown",
   "metadata": {},
   "source": [
    "`all` - If all values are null then it will be remove the whole row and column"
   ]
  },
  {
   "cell_type": "code",
   "execution_count": 126,
   "metadata": {},
   "outputs": [
    {
     "name": "stdout",
     "output_type": "stream",
     "text": [
      "<class 'pandas.core.frame.DataFrame'>\n",
      "Int64Index: 3715 entries, 0 to 4136\n",
      "Data columns (total 9 columns):\n",
      " #   Column                        Non-Null Count  Dtype  \n",
      "---  ------                        --------------  -----  \n",
      " 0   Vaccine                       3715 non-null   object \n",
      " 1   Geography Type                3715 non-null   object \n",
      " 2   Geography                     3715 non-null   object \n",
      " 3   Survey Year/Influenza Season  3715 non-null   int64  \n",
      " 4   Dimension Type                3715 non-null   object \n",
      " 5   Dimension                     3715 non-null   object \n",
      " 6   Estimate (%)                  3715 non-null   float64\n",
      " 7   95% CI (%)                    3715 non-null   object \n",
      " 8   Sample Size                   3715 non-null   float64\n",
      "dtypes: float64(2), int64(1), object(6)\n",
      "memory usage: 290.2+ KB\n"
     ]
    }
   ],
   "source": [
    "new_data2 = new_data.dropna(how='all')\n",
    "new_data2.info()"
   ]
  },
  {
   "cell_type": "code",
   "execution_count": 127,
   "metadata": {},
   "outputs": [
    {
     "name": "stdout",
     "output_type": "stream",
     "text": [
      "<class 'pandas.core.frame.DataFrame'>\n",
      "Int64Index: 3715 entries, 0 to 4136\n",
      "Data columns (total 9 columns):\n",
      " #   Column                        Non-Null Count  Dtype  \n",
      "---  ------                        --------------  -----  \n",
      " 0   Vaccine                       3715 non-null   object \n",
      " 1   Geography Type                3715 non-null   object \n",
      " 2   Geography                     3715 non-null   object \n",
      " 3   Survey Year/Influenza Season  3715 non-null   int64  \n",
      " 4   Dimension Type                3715 non-null   object \n",
      " 5   Dimension                     3715 non-null   object \n",
      " 6   Estimate (%)                  3715 non-null   float64\n",
      " 7   95% CI (%)                    3715 non-null   object \n",
      " 8   Sample Size                   3715 non-null   float64\n",
      "dtypes: float64(2), int64(1), object(6)\n",
      "memory usage: 290.2+ KB\n"
     ]
    }
   ],
   "source": [
    "new_data2 = new_data.dropna(how='any')\n",
    "new_data2.info()"
   ]
  },
  {
   "attachments": {},
   "cell_type": "markdown",
   "metadata": {},
   "source": [
    "## Scaling Techniques"
   ]
  },
  {
   "cell_type": "code",
   "execution_count": 128,
   "metadata": {},
   "outputs": [
    {
     "data": {
      "text/html": [
       "<div>\n",
       "<style scoped>\n",
       "    .dataframe tbody tr th:only-of-type {\n",
       "        vertical-align: middle;\n",
       "    }\n",
       "\n",
       "    .dataframe tbody tr th {\n",
       "        vertical-align: top;\n",
       "    }\n",
       "\n",
       "    .dataframe thead th {\n",
       "        text-align: right;\n",
       "    }\n",
       "</style>\n",
       "<table border=\"1\" class=\"dataframe\">\n",
       "  <thead>\n",
       "    <tr style=\"text-align: right;\">\n",
       "      <th></th>\n",
       "      <th>Vaccine</th>\n",
       "      <th>Geography Type</th>\n",
       "      <th>Geography</th>\n",
       "      <th>Survey Year/Influenza Season</th>\n",
       "      <th>Dimension Type</th>\n",
       "      <th>Dimension</th>\n",
       "      <th>Estimate (%)</th>\n",
       "      <th>95% CI (%)</th>\n",
       "      <th>Sample Size</th>\n",
       "    </tr>\n",
       "  </thead>\n",
       "  <tbody>\n",
       "    <tr>\n",
       "      <th>0</th>\n",
       "      <td>Influenza</td>\n",
       "      <td>States</td>\n",
       "      <td>Alaska</td>\n",
       "      <td>2012</td>\n",
       "      <td>Age</td>\n",
       "      <td>≥18 Years</td>\n",
       "      <td>49.2</td>\n",
       "      <td>45.3 to 53.1</td>\n",
       "      <td>852.0</td>\n",
       "    </tr>\n",
       "    <tr>\n",
       "      <th>1</th>\n",
       "      <td>Influenza</td>\n",
       "      <td>States</td>\n",
       "      <td>Arkansas</td>\n",
       "      <td>2012</td>\n",
       "      <td>Age</td>\n",
       "      <td>≥18 Years</td>\n",
       "      <td>46.6</td>\n",
       "      <td>40.7 to 52.5</td>\n",
       "      <td>756.0</td>\n",
       "    </tr>\n",
       "    <tr>\n",
       "      <th>2</th>\n",
       "      <td>Influenza</td>\n",
       "      <td>States</td>\n",
       "      <td>Colorado</td>\n",
       "      <td>2012</td>\n",
       "      <td>Age</td>\n",
       "      <td>≥18 Years</td>\n",
       "      <td>56.1</td>\n",
       "      <td>52.1 to 60.0</td>\n",
       "      <td>1170.0</td>\n",
       "    </tr>\n",
       "  </tbody>\n",
       "</table>\n",
       "</div>"
      ],
      "text/plain": [
       "     Vaccine Geography Type Geography  Survey Year/Influenza Season  \\\n",
       "0  Influenza         States    Alaska                          2012   \n",
       "1  Influenza         States  Arkansas                          2012   \n",
       "2  Influenza         States  Colorado                          2012   \n",
       "\n",
       "  Dimension Type  Dimension  Estimate (%)    95% CI (%)  Sample Size  \n",
       "0            Age  ≥18 Years          49.2  45.3 to 53.1        852.0  \n",
       "1            Age  ≥18 Years          46.6  40.7 to 52.5        756.0  \n",
       "2            Age  ≥18 Years          56.1  52.1 to 60.0       1170.0  "
      ]
     },
     "execution_count": 128,
     "metadata": {},
     "output_type": "execute_result"
    }
   ],
   "source": [
    "new_data.head(3)"
   ]
  },
  {
   "attachments": {},
   "cell_type": "markdown",
   "metadata": {},
   "source": [
    "### Maximum Absolute Scaling\n",
    "\n",
    "### $x_{new}$ = $\\frac{x_{old}}{max(abs(x_{old}))}$"
   ]
  },
  {
   "cell_type": "code",
   "execution_count": 129,
   "metadata": {},
   "outputs": [],
   "source": [
    "def max_abs_scaling(df):\n",
    "    df_scaled = df.copy()\n",
    "    for col in df.columns[:2]:\n",
    "        df_scaled[col] = df_scaled[col] / df_scaled[col].abs().max()\n",
    "    return df_scaled"
   ]
  },
  {
   "cell_type": "code",
   "execution_count": 130,
   "metadata": {},
   "outputs": [
    {
     "data": {
      "text/html": [
       "<div>\n",
       "<style scoped>\n",
       "    .dataframe tbody tr th:only-of-type {\n",
       "        vertical-align: middle;\n",
       "    }\n",
       "\n",
       "    .dataframe tbody tr th {\n",
       "        vertical-align: top;\n",
       "    }\n",
       "\n",
       "    .dataframe thead th {\n",
       "        text-align: right;\n",
       "    }\n",
       "</style>\n",
       "<table border=\"1\" class=\"dataframe\">\n",
       "  <thead>\n",
       "    <tr style=\"text-align: right;\">\n",
       "      <th></th>\n",
       "      <th>Estimate (%)</th>\n",
       "      <th>95% CI (%)</th>\n",
       "      <th>Sample Size</th>\n",
       "    </tr>\n",
       "  </thead>\n",
       "  <tbody>\n",
       "    <tr>\n",
       "      <th>0</th>\n",
       "      <td>49.2</td>\n",
       "      <td>45.3 to 53.1</td>\n",
       "      <td>852.0</td>\n",
       "    </tr>\n",
       "    <tr>\n",
       "      <th>1</th>\n",
       "      <td>46.6</td>\n",
       "      <td>40.7 to 52.5</td>\n",
       "      <td>756.0</td>\n",
       "    </tr>\n",
       "    <tr>\n",
       "      <th>2</th>\n",
       "      <td>56.1</td>\n",
       "      <td>52.1 to 60.0</td>\n",
       "      <td>1170.0</td>\n",
       "    </tr>\n",
       "    <tr>\n",
       "      <th>3</th>\n",
       "      <td>41.6</td>\n",
       "      <td>38.4 to 44.8</td>\n",
       "      <td>981.0</td>\n",
       "    </tr>\n",
       "    <tr>\n",
       "      <th>4</th>\n",
       "      <td>33.6</td>\n",
       "      <td>29.6 to 37.7</td>\n",
       "      <td>1007.0</td>\n",
       "    </tr>\n",
       "    <tr>\n",
       "      <th>...</th>\n",
       "      <td>...</td>\n",
       "      <td>...</td>\n",
       "      <td>...</td>\n",
       "    </tr>\n",
       "    <tr>\n",
       "      <th>4132</th>\n",
       "      <td>80.1</td>\n",
       "      <td>77.0 to 83.0</td>\n",
       "      <td>979.0</td>\n",
       "    </tr>\n",
       "    <tr>\n",
       "      <th>4133</th>\n",
       "      <td>86.4</td>\n",
       "      <td>83.6 to 88.9</td>\n",
       "      <td>696.0</td>\n",
       "    </tr>\n",
       "    <tr>\n",
       "      <th>4134</th>\n",
       "      <td>83.1</td>\n",
       "      <td>76.9 to 88.2</td>\n",
       "      <td>503.0</td>\n",
       "    </tr>\n",
       "    <tr>\n",
       "      <th>4135</th>\n",
       "      <td>80.9</td>\n",
       "      <td>76.2 to 85.0</td>\n",
       "      <td>352.0</td>\n",
       "    </tr>\n",
       "    <tr>\n",
       "      <th>4136</th>\n",
       "      <td>82.8</td>\n",
       "      <td>78.4 to 86.7</td>\n",
       "      <td>364.0</td>\n",
       "    </tr>\n",
       "  </tbody>\n",
       "</table>\n",
       "<p>3715 rows × 3 columns</p>\n",
       "</div>"
      ],
      "text/plain": [
       "      Estimate (%)    95% CI (%)  Sample Size\n",
       "0             49.2  45.3 to 53.1        852.0\n",
       "1             46.6  40.7 to 52.5        756.0\n",
       "2             56.1  52.1 to 60.0       1170.0\n",
       "3             41.6  38.4 to 44.8        981.0\n",
       "4             33.6  29.6 to 37.7       1007.0\n",
       "...            ...           ...          ...\n",
       "4132          80.1  77.0 to 83.0        979.0\n",
       "4133          86.4  83.6 to 88.9        696.0\n",
       "4134          83.1  76.9 to 88.2        503.0\n",
       "4135          80.9  76.2 to 85.0        352.0\n",
       "4136          82.8  78.4 to 86.7        364.0\n",
       "\n",
       "[3715 rows x 3 columns]"
      ]
     },
     "execution_count": 130,
     "metadata": {},
     "output_type": "execute_result"
    }
   ],
   "source": [
    "x = new_data.iloc[:, -3:]\n",
    "x"
   ]
  },
  {
   "cell_type": "code",
   "execution_count": 131,
   "metadata": {},
   "outputs": [
    {
     "name": "stdout",
     "output_type": "stream",
     "text": [
      "<class 'pandas.core.frame.DataFrame'>\n",
      "Int64Index: 3715 entries, 0 to 4136\n",
      "Data columns (total 3 columns):\n",
      " #   Column        Non-Null Count  Dtype  \n",
      "---  ------        --------------  -----  \n",
      " 0   Estimate (%)  3715 non-null   float64\n",
      " 1   95% CI (%)    3715 non-null   object \n",
      " 2   Sample Size   3715 non-null   float64\n",
      "dtypes: float64(2), object(1)\n",
      "memory usage: 116.1+ KB\n"
     ]
    }
   ],
   "source": [
    "x.info()"
   ]
  },
  {
   "cell_type": "code",
   "execution_count": 132,
   "metadata": {},
   "outputs": [
    {
     "data": {
      "text/html": [
       "<div>\n",
       "<style scoped>\n",
       "    .dataframe tbody tr th:only-of-type {\n",
       "        vertical-align: middle;\n",
       "    }\n",
       "\n",
       "    .dataframe tbody tr th {\n",
       "        vertical-align: top;\n",
       "    }\n",
       "\n",
       "    .dataframe thead th {\n",
       "        text-align: right;\n",
       "    }\n",
       "</style>\n",
       "<table border=\"1\" class=\"dataframe\">\n",
       "  <thead>\n",
       "    <tr style=\"text-align: right;\">\n",
       "      <th></th>\n",
       "      <th>Estimate (%)</th>\n",
       "    </tr>\n",
       "  </thead>\n",
       "  <tbody>\n",
       "    <tr>\n",
       "      <th>0</th>\n",
       "      <td>49.2</td>\n",
       "    </tr>\n",
       "    <tr>\n",
       "      <th>1</th>\n",
       "      <td>46.6</td>\n",
       "    </tr>\n",
       "    <tr>\n",
       "      <th>2</th>\n",
       "      <td>56.1</td>\n",
       "    </tr>\n",
       "    <tr>\n",
       "      <th>3</th>\n",
       "      <td>41.6</td>\n",
       "    </tr>\n",
       "    <tr>\n",
       "      <th>4</th>\n",
       "      <td>33.6</td>\n",
       "    </tr>\n",
       "    <tr>\n",
       "      <th>...</th>\n",
       "      <td>...</td>\n",
       "    </tr>\n",
       "    <tr>\n",
       "      <th>4132</th>\n",
       "      <td>80.1</td>\n",
       "    </tr>\n",
       "    <tr>\n",
       "      <th>4133</th>\n",
       "      <td>86.4</td>\n",
       "    </tr>\n",
       "    <tr>\n",
       "      <th>4134</th>\n",
       "      <td>83.1</td>\n",
       "    </tr>\n",
       "    <tr>\n",
       "      <th>4135</th>\n",
       "      <td>80.9</td>\n",
       "    </tr>\n",
       "    <tr>\n",
       "      <th>4136</th>\n",
       "      <td>82.8</td>\n",
       "    </tr>\n",
       "  </tbody>\n",
       "</table>\n",
       "<p>3715 rows × 1 columns</p>\n",
       "</div>"
      ],
      "text/plain": [
       "      Estimate (%)\n",
       "0             49.2\n",
       "1             46.6\n",
       "2             56.1\n",
       "3             41.6\n",
       "4             33.6\n",
       "...            ...\n",
       "4132          80.1\n",
       "4133          86.4\n",
       "4134          83.1\n",
       "4135          80.9\n",
       "4136          82.8\n",
       "\n",
       "[3715 rows x 1 columns]"
      ]
     },
     "execution_count": 132,
     "metadata": {},
     "output_type": "execute_result"
    }
   ],
   "source": [
    "y = pd.DataFrame(x.iloc[:, :1])\n",
    "y"
   ]
  },
  {
   "cell_type": "code",
   "execution_count": 133,
   "metadata": {},
   "outputs": [
    {
     "data": {
      "text/html": [
       "<div>\n",
       "<style scoped>\n",
       "    .dataframe tbody tr th:only-of-type {\n",
       "        vertical-align: middle;\n",
       "    }\n",
       "\n",
       "    .dataframe tbody tr th {\n",
       "        vertical-align: top;\n",
       "    }\n",
       "\n",
       "    .dataframe thead th {\n",
       "        text-align: right;\n",
       "    }\n",
       "</style>\n",
       "<table border=\"1\" class=\"dataframe\">\n",
       "  <thead>\n",
       "    <tr style=\"text-align: right;\">\n",
       "      <th></th>\n",
       "      <th>Sample Size</th>\n",
       "    </tr>\n",
       "  </thead>\n",
       "  <tbody>\n",
       "    <tr>\n",
       "      <th>0</th>\n",
       "      <td>852.0</td>\n",
       "    </tr>\n",
       "    <tr>\n",
       "      <th>1</th>\n",
       "      <td>756.0</td>\n",
       "    </tr>\n",
       "    <tr>\n",
       "      <th>2</th>\n",
       "      <td>1170.0</td>\n",
       "    </tr>\n",
       "    <tr>\n",
       "      <th>3</th>\n",
       "      <td>981.0</td>\n",
       "    </tr>\n",
       "    <tr>\n",
       "      <th>4</th>\n",
       "      <td>1007.0</td>\n",
       "    </tr>\n",
       "    <tr>\n",
       "      <th>...</th>\n",
       "      <td>...</td>\n",
       "    </tr>\n",
       "    <tr>\n",
       "      <th>4132</th>\n",
       "      <td>979.0</td>\n",
       "    </tr>\n",
       "    <tr>\n",
       "      <th>4133</th>\n",
       "      <td>696.0</td>\n",
       "    </tr>\n",
       "    <tr>\n",
       "      <th>4134</th>\n",
       "      <td>503.0</td>\n",
       "    </tr>\n",
       "    <tr>\n",
       "      <th>4135</th>\n",
       "      <td>352.0</td>\n",
       "    </tr>\n",
       "    <tr>\n",
       "      <th>4136</th>\n",
       "      <td>364.0</td>\n",
       "    </tr>\n",
       "  </tbody>\n",
       "</table>\n",
       "<p>3715 rows × 1 columns</p>\n",
       "</div>"
      ],
      "text/plain": [
       "      Sample Size\n",
       "0           852.0\n",
       "1           756.0\n",
       "2          1170.0\n",
       "3           981.0\n",
       "4          1007.0\n",
       "...           ...\n",
       "4132        979.0\n",
       "4133        696.0\n",
       "4134        503.0\n",
       "4135        352.0\n",
       "4136        364.0\n",
       "\n",
       "[3715 rows x 1 columns]"
      ]
     },
     "execution_count": 133,
     "metadata": {},
     "output_type": "execute_result"
    }
   ],
   "source": [
    "z = pd.DataFrame(x.iloc[:, -1:])\n",
    "z"
   ]
  },
  {
   "cell_type": "code",
   "execution_count": 134,
   "metadata": {},
   "outputs": [
    {
     "data": {
      "text/html": [
       "<div>\n",
       "<style scoped>\n",
       "    .dataframe tbody tr th:only-of-type {\n",
       "        vertical-align: middle;\n",
       "    }\n",
       "\n",
       "    .dataframe tbody tr th {\n",
       "        vertical-align: top;\n",
       "    }\n",
       "\n",
       "    .dataframe thead th {\n",
       "        text-align: right;\n",
       "    }\n",
       "</style>\n",
       "<table border=\"1\" class=\"dataframe\">\n",
       "  <thead>\n",
       "    <tr style=\"text-align: right;\">\n",
       "      <th></th>\n",
       "      <th>Estimate (%)</th>\n",
       "      <th>95% CI (%)</th>\n",
       "      <th>Sample Size</th>\n",
       "    </tr>\n",
       "  </thead>\n",
       "  <tbody>\n",
       "    <tr>\n",
       "      <th>0</th>\n",
       "      <td>49.2</td>\n",
       "      <td>45.3 to 53.1</td>\n",
       "      <td>852.0</td>\n",
       "    </tr>\n",
       "    <tr>\n",
       "      <th>1</th>\n",
       "      <td>46.6</td>\n",
       "      <td>40.7 to 52.5</td>\n",
       "      <td>756.0</td>\n",
       "    </tr>\n",
       "    <tr>\n",
       "      <th>2</th>\n",
       "      <td>56.1</td>\n",
       "      <td>52.1 to 60.0</td>\n",
       "      <td>1170.0</td>\n",
       "    </tr>\n",
       "    <tr>\n",
       "      <th>3</th>\n",
       "      <td>41.6</td>\n",
       "      <td>38.4 to 44.8</td>\n",
       "      <td>981.0</td>\n",
       "    </tr>\n",
       "    <tr>\n",
       "      <th>4</th>\n",
       "      <td>33.6</td>\n",
       "      <td>29.6 to 37.7</td>\n",
       "      <td>1007.0</td>\n",
       "    </tr>\n",
       "  </tbody>\n",
       "</table>\n",
       "</div>"
      ],
      "text/plain": [
       "   Estimate (%)    95% CI (%)  Sample Size\n",
       "0          49.2  45.3 to 53.1        852.0\n",
       "1          46.6  40.7 to 52.5        756.0\n",
       "2          56.1  52.1 to 60.0       1170.0\n",
       "3          41.6  38.4 to 44.8        981.0\n",
       "4          33.6  29.6 to 37.7       1007.0"
      ]
     },
     "execution_count": 134,
     "metadata": {},
     "output_type": "execute_result"
    }
   ],
   "source": [
    "x.head()"
   ]
  },
  {
   "attachments": {},
   "cell_type": "markdown",
   "metadata": {},
   "source": [
    "Used a drop function to drop the object datatype which is not suitable for numeric computations"
   ]
  },
  {
   "cell_type": "code",
   "execution_count": 135,
   "metadata": {},
   "outputs": [
    {
     "data": {
      "text/html": [
       "<div>\n",
       "<style scoped>\n",
       "    .dataframe tbody tr th:only-of-type {\n",
       "        vertical-align: middle;\n",
       "    }\n",
       "\n",
       "    .dataframe tbody tr th {\n",
       "        vertical-align: top;\n",
       "    }\n",
       "\n",
       "    .dataframe thead th {\n",
       "        text-align: right;\n",
       "    }\n",
       "</style>\n",
       "<table border=\"1\" class=\"dataframe\">\n",
       "  <thead>\n",
       "    <tr style=\"text-align: right;\">\n",
       "      <th></th>\n",
       "      <th>Estimate (%)</th>\n",
       "      <th>Sample Size</th>\n",
       "    </tr>\n",
       "  </thead>\n",
       "  <tbody>\n",
       "    <tr>\n",
       "      <th>0</th>\n",
       "      <td>49.2</td>\n",
       "      <td>852.0</td>\n",
       "    </tr>\n",
       "    <tr>\n",
       "      <th>1</th>\n",
       "      <td>46.6</td>\n",
       "      <td>756.0</td>\n",
       "    </tr>\n",
       "    <tr>\n",
       "      <th>2</th>\n",
       "      <td>56.1</td>\n",
       "      <td>1170.0</td>\n",
       "    </tr>\n",
       "    <tr>\n",
       "      <th>3</th>\n",
       "      <td>41.6</td>\n",
       "      <td>981.0</td>\n",
       "    </tr>\n",
       "    <tr>\n",
       "      <th>4</th>\n",
       "      <td>33.6</td>\n",
       "      <td>1007.0</td>\n",
       "    </tr>\n",
       "    <tr>\n",
       "      <th>...</th>\n",
       "      <td>...</td>\n",
       "      <td>...</td>\n",
       "    </tr>\n",
       "    <tr>\n",
       "      <th>4132</th>\n",
       "      <td>80.1</td>\n",
       "      <td>979.0</td>\n",
       "    </tr>\n",
       "    <tr>\n",
       "      <th>4133</th>\n",
       "      <td>86.4</td>\n",
       "      <td>696.0</td>\n",
       "    </tr>\n",
       "    <tr>\n",
       "      <th>4134</th>\n",
       "      <td>83.1</td>\n",
       "      <td>503.0</td>\n",
       "    </tr>\n",
       "    <tr>\n",
       "      <th>4135</th>\n",
       "      <td>80.9</td>\n",
       "      <td>352.0</td>\n",
       "    </tr>\n",
       "    <tr>\n",
       "      <th>4136</th>\n",
       "      <td>82.8</td>\n",
       "      <td>364.0</td>\n",
       "    </tr>\n",
       "  </tbody>\n",
       "</table>\n",
       "<p>3715 rows × 2 columns</p>\n",
       "</div>"
      ],
      "text/plain": [
       "      Estimate (%)  Sample Size\n",
       "0             49.2        852.0\n",
       "1             46.6        756.0\n",
       "2             56.1       1170.0\n",
       "3             41.6        981.0\n",
       "4             33.6       1007.0\n",
       "...            ...          ...\n",
       "4132          80.1        979.0\n",
       "4133          86.4        696.0\n",
       "4134          83.1        503.0\n",
       "4135          80.9        352.0\n",
       "4136          82.8        364.0\n",
       "\n",
       "[3715 rows x 2 columns]"
      ]
     },
     "execution_count": 135,
     "metadata": {},
     "output_type": "execute_result"
    }
   ],
   "source": [
    "new_x = x.drop(['95% CI (%)'], axis=1)\n",
    "new_x"
   ]
  },
  {
   "cell_type": "code",
   "execution_count": 136,
   "metadata": {},
   "outputs": [
    {
     "data": {
      "text/html": [
       "<div>\n",
       "<style scoped>\n",
       "    .dataframe tbody tr th:only-of-type {\n",
       "        vertical-align: middle;\n",
       "    }\n",
       "\n",
       "    .dataframe tbody tr th {\n",
       "        vertical-align: top;\n",
       "    }\n",
       "\n",
       "    .dataframe thead th {\n",
       "        text-align: right;\n",
       "    }\n",
       "</style>\n",
       "<table border=\"1\" class=\"dataframe\">\n",
       "  <thead>\n",
       "    <tr style=\"text-align: right;\">\n",
       "      <th></th>\n",
       "      <th>Estimate (%)</th>\n",
       "      <th>Sample Size</th>\n",
       "    </tr>\n",
       "  </thead>\n",
       "  <tbody>\n",
       "    <tr>\n",
       "      <th>0</th>\n",
       "      <td>0.501018</td>\n",
       "      <td>0.019480</td>\n",
       "    </tr>\n",
       "    <tr>\n",
       "      <th>1</th>\n",
       "      <td>0.474542</td>\n",
       "      <td>0.017285</td>\n",
       "    </tr>\n",
       "    <tr>\n",
       "      <th>2</th>\n",
       "      <td>0.571283</td>\n",
       "      <td>0.026751</td>\n",
       "    </tr>\n",
       "    <tr>\n",
       "      <th>3</th>\n",
       "      <td>0.423625</td>\n",
       "      <td>0.022430</td>\n",
       "    </tr>\n",
       "    <tr>\n",
       "      <th>4</th>\n",
       "      <td>0.342159</td>\n",
       "      <td>0.023024</td>\n",
       "    </tr>\n",
       "    <tr>\n",
       "      <th>...</th>\n",
       "      <td>...</td>\n",
       "      <td>...</td>\n",
       "    </tr>\n",
       "    <tr>\n",
       "      <th>4132</th>\n",
       "      <td>0.815682</td>\n",
       "      <td>0.022384</td>\n",
       "    </tr>\n",
       "    <tr>\n",
       "      <th>4133</th>\n",
       "      <td>0.879837</td>\n",
       "      <td>0.015913</td>\n",
       "    </tr>\n",
       "    <tr>\n",
       "      <th>4134</th>\n",
       "      <td>0.846232</td>\n",
       "      <td>0.011501</td>\n",
       "    </tr>\n",
       "    <tr>\n",
       "      <th>4135</th>\n",
       "      <td>0.823829</td>\n",
       "      <td>0.008048</td>\n",
       "    </tr>\n",
       "    <tr>\n",
       "      <th>4136</th>\n",
       "      <td>0.843177</td>\n",
       "      <td>0.008322</td>\n",
       "    </tr>\n",
       "  </tbody>\n",
       "</table>\n",
       "<p>3715 rows × 2 columns</p>\n",
       "</div>"
      ],
      "text/plain": [
       "      Estimate (%)  Sample Size\n",
       "0         0.501018     0.019480\n",
       "1         0.474542     0.017285\n",
       "2         0.571283     0.026751\n",
       "3         0.423625     0.022430\n",
       "4         0.342159     0.023024\n",
       "...            ...          ...\n",
       "4132      0.815682     0.022384\n",
       "4133      0.879837     0.015913\n",
       "4134      0.846232     0.011501\n",
       "4135      0.823829     0.008048\n",
       "4136      0.843177     0.008322\n",
       "\n",
       "[3715 rows x 2 columns]"
      ]
     },
     "execution_count": 136,
     "metadata": {},
     "output_type": "execute_result"
    }
   ],
   "source": [
    "max_abs_scaled = max_abs_scaling(new_x)\n",
    "max_abs_scaled"
   ]
  },
  {
   "cell_type": "code",
   "execution_count": 137,
   "metadata": {},
   "outputs": [],
   "source": [
    "from sklearn.preprocessing import MaxAbsScaler"
   ]
  },
  {
   "cell_type": "code",
   "execution_count": 138,
   "metadata": {},
   "outputs": [
    {
     "data": {
      "text/html": [
       "<style>#sk-container-id-6 {color: black;background-color: white;}#sk-container-id-6 pre{padding: 0;}#sk-container-id-6 div.sk-toggleable {background-color: white;}#sk-container-id-6 label.sk-toggleable__label {cursor: pointer;display: block;width: 100%;margin-bottom: 0;padding: 0.3em;box-sizing: border-box;text-align: center;}#sk-container-id-6 label.sk-toggleable__label-arrow:before {content: \"▸\";float: left;margin-right: 0.25em;color: #696969;}#sk-container-id-6 label.sk-toggleable__label-arrow:hover:before {color: black;}#sk-container-id-6 div.sk-estimator:hover label.sk-toggleable__label-arrow:before {color: black;}#sk-container-id-6 div.sk-toggleable__content {max-height: 0;max-width: 0;overflow: hidden;text-align: left;background-color: #f0f8ff;}#sk-container-id-6 div.sk-toggleable__content pre {margin: 0.2em;color: black;border-radius: 0.25em;background-color: #f0f8ff;}#sk-container-id-6 input.sk-toggleable__control:checked~div.sk-toggleable__content {max-height: 200px;max-width: 100%;overflow: auto;}#sk-container-id-6 input.sk-toggleable__control:checked~label.sk-toggleable__label-arrow:before {content: \"▾\";}#sk-container-id-6 div.sk-estimator input.sk-toggleable__control:checked~label.sk-toggleable__label {background-color: #d4ebff;}#sk-container-id-6 div.sk-label input.sk-toggleable__control:checked~label.sk-toggleable__label {background-color: #d4ebff;}#sk-container-id-6 input.sk-hidden--visually {border: 0;clip: rect(1px 1px 1px 1px);clip: rect(1px, 1px, 1px, 1px);height: 1px;margin: -1px;overflow: hidden;padding: 0;position: absolute;width: 1px;}#sk-container-id-6 div.sk-estimator {font-family: monospace;background-color: #f0f8ff;border: 1px dotted black;border-radius: 0.25em;box-sizing: border-box;margin-bottom: 0.5em;}#sk-container-id-6 div.sk-estimator:hover {background-color: #d4ebff;}#sk-container-id-6 div.sk-parallel-item::after {content: \"\";width: 100%;border-bottom: 1px solid gray;flex-grow: 1;}#sk-container-id-6 div.sk-label:hover label.sk-toggleable__label {background-color: #d4ebff;}#sk-container-id-6 div.sk-serial::before {content: \"\";position: absolute;border-left: 1px solid gray;box-sizing: border-box;top: 0;bottom: 0;left: 50%;z-index: 0;}#sk-container-id-6 div.sk-serial {display: flex;flex-direction: column;align-items: center;background-color: white;padding-right: 0.2em;padding-left: 0.2em;position: relative;}#sk-container-id-6 div.sk-item {position: relative;z-index: 1;}#sk-container-id-6 div.sk-parallel {display: flex;align-items: stretch;justify-content: center;background-color: white;position: relative;}#sk-container-id-6 div.sk-item::before, #sk-container-id-6 div.sk-parallel-item::before {content: \"\";position: absolute;border-left: 1px solid gray;box-sizing: border-box;top: 0;bottom: 0;left: 50%;z-index: -1;}#sk-container-id-6 div.sk-parallel-item {display: flex;flex-direction: column;z-index: 1;position: relative;background-color: white;}#sk-container-id-6 div.sk-parallel-item:first-child::after {align-self: flex-end;width: 50%;}#sk-container-id-6 div.sk-parallel-item:last-child::after {align-self: flex-start;width: 50%;}#sk-container-id-6 div.sk-parallel-item:only-child::after {width: 0;}#sk-container-id-6 div.sk-dashed-wrapped {border: 1px dashed gray;margin: 0 0.4em 0.5em 0.4em;box-sizing: border-box;padding-bottom: 0.4em;background-color: white;}#sk-container-id-6 div.sk-label label {font-family: monospace;font-weight: bold;display: inline-block;line-height: 1.2em;}#sk-container-id-6 div.sk-label-container {text-align: center;}#sk-container-id-6 div.sk-container {/* jupyter's `normalize.less` sets `[hidden] { display: none; }` but bootstrap.min.css set `[hidden] { display: none !important; }` so we also need the `!important` here to be able to override the default hidden behavior on the sphinx rendered scikit-learn.org. See: https://github.com/scikit-learn/scikit-learn/issues/21755 */display: inline-block !important;position: relative;}#sk-container-id-6 div.sk-text-repr-fallback {display: none;}</style><div id=\"sk-container-id-6\" class=\"sk-top-container\"><div class=\"sk-text-repr-fallback\"><pre>MaxAbsScaler()</pre><b>In a Jupyter environment, please rerun this cell to show the HTML representation or trust the notebook. <br />On GitHub, the HTML representation is unable to render, please try loading this page with nbviewer.org.</b></div><div class=\"sk-container\" hidden><div class=\"sk-item\"><div class=\"sk-estimator sk-toggleable\"><input class=\"sk-toggleable__control sk-hidden--visually\" id=\"sk-estimator-id-6\" type=\"checkbox\" checked><label for=\"sk-estimator-id-6\" class=\"sk-toggleable__label sk-toggleable__label-arrow\">MaxAbsScaler</label><div class=\"sk-toggleable__content\"><pre>MaxAbsScaler()</pre></div></div></div></div></div>"
      ],
      "text/plain": [
       "MaxAbsScaler()"
      ]
     },
     "execution_count": 138,
     "metadata": {},
     "output_type": "execute_result"
    }
   ],
   "source": [
    "max_abs_scaled = MaxAbsScaler()\n",
    "max_abs_scaled"
   ]
  },
  {
   "cell_type": "code",
   "execution_count": 139,
   "metadata": {},
   "outputs": [
    {
     "data": {
      "text/html": [
       "<style>#sk-container-id-7 {color: black;background-color: white;}#sk-container-id-7 pre{padding: 0;}#sk-container-id-7 div.sk-toggleable {background-color: white;}#sk-container-id-7 label.sk-toggleable__label {cursor: pointer;display: block;width: 100%;margin-bottom: 0;padding: 0.3em;box-sizing: border-box;text-align: center;}#sk-container-id-7 label.sk-toggleable__label-arrow:before {content: \"▸\";float: left;margin-right: 0.25em;color: #696969;}#sk-container-id-7 label.sk-toggleable__label-arrow:hover:before {color: black;}#sk-container-id-7 div.sk-estimator:hover label.sk-toggleable__label-arrow:before {color: black;}#sk-container-id-7 div.sk-toggleable__content {max-height: 0;max-width: 0;overflow: hidden;text-align: left;background-color: #f0f8ff;}#sk-container-id-7 div.sk-toggleable__content pre {margin: 0.2em;color: black;border-radius: 0.25em;background-color: #f0f8ff;}#sk-container-id-7 input.sk-toggleable__control:checked~div.sk-toggleable__content {max-height: 200px;max-width: 100%;overflow: auto;}#sk-container-id-7 input.sk-toggleable__control:checked~label.sk-toggleable__label-arrow:before {content: \"▾\";}#sk-container-id-7 div.sk-estimator input.sk-toggleable__control:checked~label.sk-toggleable__label {background-color: #d4ebff;}#sk-container-id-7 div.sk-label input.sk-toggleable__control:checked~label.sk-toggleable__label {background-color: #d4ebff;}#sk-container-id-7 input.sk-hidden--visually {border: 0;clip: rect(1px 1px 1px 1px);clip: rect(1px, 1px, 1px, 1px);height: 1px;margin: -1px;overflow: hidden;padding: 0;position: absolute;width: 1px;}#sk-container-id-7 div.sk-estimator {font-family: monospace;background-color: #f0f8ff;border: 1px dotted black;border-radius: 0.25em;box-sizing: border-box;margin-bottom: 0.5em;}#sk-container-id-7 div.sk-estimator:hover {background-color: #d4ebff;}#sk-container-id-7 div.sk-parallel-item::after {content: \"\";width: 100%;border-bottom: 1px solid gray;flex-grow: 1;}#sk-container-id-7 div.sk-label:hover label.sk-toggleable__label {background-color: #d4ebff;}#sk-container-id-7 div.sk-serial::before {content: \"\";position: absolute;border-left: 1px solid gray;box-sizing: border-box;top: 0;bottom: 0;left: 50%;z-index: 0;}#sk-container-id-7 div.sk-serial {display: flex;flex-direction: column;align-items: center;background-color: white;padding-right: 0.2em;padding-left: 0.2em;position: relative;}#sk-container-id-7 div.sk-item {position: relative;z-index: 1;}#sk-container-id-7 div.sk-parallel {display: flex;align-items: stretch;justify-content: center;background-color: white;position: relative;}#sk-container-id-7 div.sk-item::before, #sk-container-id-7 div.sk-parallel-item::before {content: \"\";position: absolute;border-left: 1px solid gray;box-sizing: border-box;top: 0;bottom: 0;left: 50%;z-index: -1;}#sk-container-id-7 div.sk-parallel-item {display: flex;flex-direction: column;z-index: 1;position: relative;background-color: white;}#sk-container-id-7 div.sk-parallel-item:first-child::after {align-self: flex-end;width: 50%;}#sk-container-id-7 div.sk-parallel-item:last-child::after {align-self: flex-start;width: 50%;}#sk-container-id-7 div.sk-parallel-item:only-child::after {width: 0;}#sk-container-id-7 div.sk-dashed-wrapped {border: 1px dashed gray;margin: 0 0.4em 0.5em 0.4em;box-sizing: border-box;padding-bottom: 0.4em;background-color: white;}#sk-container-id-7 div.sk-label label {font-family: monospace;font-weight: bold;display: inline-block;line-height: 1.2em;}#sk-container-id-7 div.sk-label-container {text-align: center;}#sk-container-id-7 div.sk-container {/* jupyter's `normalize.less` sets `[hidden] { display: none; }` but bootstrap.min.css set `[hidden] { display: none !important; }` so we also need the `!important` here to be able to override the default hidden behavior on the sphinx rendered scikit-learn.org. See: https://github.com/scikit-learn/scikit-learn/issues/21755 */display: inline-block !important;position: relative;}#sk-container-id-7 div.sk-text-repr-fallback {display: none;}</style><div id=\"sk-container-id-7\" class=\"sk-top-container\"><div class=\"sk-text-repr-fallback\"><pre>MaxAbsScaler()</pre><b>In a Jupyter environment, please rerun this cell to show the HTML representation or trust the notebook. <br />On GitHub, the HTML representation is unable to render, please try loading this page with nbviewer.org.</b></div><div class=\"sk-container\" hidden><div class=\"sk-item\"><div class=\"sk-estimator sk-toggleable\"><input class=\"sk-toggleable__control sk-hidden--visually\" id=\"sk-estimator-id-7\" type=\"checkbox\" checked><label for=\"sk-estimator-id-7\" class=\"sk-toggleable__label sk-toggleable__label-arrow\">MaxAbsScaler</label><div class=\"sk-toggleable__content\"><pre>MaxAbsScaler()</pre></div></div></div></div></div>"
      ],
      "text/plain": [
       "MaxAbsScaler()"
      ]
     },
     "execution_count": 139,
     "metadata": {},
     "output_type": "execute_result"
    }
   ],
   "source": [
    "max_abs_scaled.fit(new_x)"
   ]
  },
  {
   "cell_type": "code",
   "execution_count": 140,
   "metadata": {},
   "outputs": [
    {
     "data": {
      "text/plain": [
       "array([   98.2, 43737. ])"
      ]
     },
     "execution_count": 140,
     "metadata": {},
     "output_type": "execute_result"
    }
   ],
   "source": [
    "max_abs_scaled.max_abs_"
   ]
  },
  {
   "cell_type": "code",
   "execution_count": 141,
   "metadata": {},
   "outputs": [],
   "source": [
    "result = max_abs_scaled.transform(new_x)"
   ]
  },
  {
   "cell_type": "code",
   "execution_count": 142,
   "metadata": {},
   "outputs": [
    {
     "data": {
      "text/plain": [
       "array([[0.50101833, 0.01948007],\n",
       "       [0.47454175, 0.01728514],\n",
       "       [0.5712831 , 0.02675081],\n",
       "       ...,\n",
       "       [0.84623218, 0.01150056],\n",
       "       [0.82382892, 0.00804811],\n",
       "       [0.84317719, 0.00832247]])"
      ]
     },
     "execution_count": 142,
     "metadata": {},
     "output_type": "execute_result"
    }
   ],
   "source": [
    "result"
   ]
  },
  {
   "cell_type": "code",
   "execution_count": 143,
   "metadata": {},
   "outputs": [
    {
     "data": {
      "text/html": [
       "<div>\n",
       "<style scoped>\n",
       "    .dataframe tbody tr th:only-of-type {\n",
       "        vertical-align: middle;\n",
       "    }\n",
       "\n",
       "    .dataframe tbody tr th {\n",
       "        vertical-align: top;\n",
       "    }\n",
       "\n",
       "    .dataframe thead th {\n",
       "        text-align: right;\n",
       "    }\n",
       "</style>\n",
       "<table border=\"1\" class=\"dataframe\">\n",
       "  <thead>\n",
       "    <tr style=\"text-align: right;\">\n",
       "      <th></th>\n",
       "      <th>Estimate (%)</th>\n",
       "      <th>Sample Size</th>\n",
       "    </tr>\n",
       "  </thead>\n",
       "  <tbody>\n",
       "    <tr>\n",
       "      <th>0</th>\n",
       "      <td>0.501018</td>\n",
       "      <td>0.019480</td>\n",
       "    </tr>\n",
       "    <tr>\n",
       "      <th>1</th>\n",
       "      <td>0.474542</td>\n",
       "      <td>0.017285</td>\n",
       "    </tr>\n",
       "    <tr>\n",
       "      <th>2</th>\n",
       "      <td>0.571283</td>\n",
       "      <td>0.026751</td>\n",
       "    </tr>\n",
       "    <tr>\n",
       "      <th>3</th>\n",
       "      <td>0.423625</td>\n",
       "      <td>0.022430</td>\n",
       "    </tr>\n",
       "    <tr>\n",
       "      <th>4</th>\n",
       "      <td>0.342159</td>\n",
       "      <td>0.023024</td>\n",
       "    </tr>\n",
       "    <tr>\n",
       "      <th>...</th>\n",
       "      <td>...</td>\n",
       "      <td>...</td>\n",
       "    </tr>\n",
       "    <tr>\n",
       "      <th>3710</th>\n",
       "      <td>0.815682</td>\n",
       "      <td>0.022384</td>\n",
       "    </tr>\n",
       "    <tr>\n",
       "      <th>3711</th>\n",
       "      <td>0.879837</td>\n",
       "      <td>0.015913</td>\n",
       "    </tr>\n",
       "    <tr>\n",
       "      <th>3712</th>\n",
       "      <td>0.846232</td>\n",
       "      <td>0.011501</td>\n",
       "    </tr>\n",
       "    <tr>\n",
       "      <th>3713</th>\n",
       "      <td>0.823829</td>\n",
       "      <td>0.008048</td>\n",
       "    </tr>\n",
       "    <tr>\n",
       "      <th>3714</th>\n",
       "      <td>0.843177</td>\n",
       "      <td>0.008322</td>\n",
       "    </tr>\n",
       "  </tbody>\n",
       "</table>\n",
       "<p>3715 rows × 2 columns</p>\n",
       "</div>"
      ],
      "text/plain": [
       "      Estimate (%)  Sample Size\n",
       "0         0.501018     0.019480\n",
       "1         0.474542     0.017285\n",
       "2         0.571283     0.026751\n",
       "3         0.423625     0.022430\n",
       "4         0.342159     0.023024\n",
       "...            ...          ...\n",
       "3710      0.815682     0.022384\n",
       "3711      0.879837     0.015913\n",
       "3712      0.846232     0.011501\n",
       "3713      0.823829     0.008048\n",
       "3714      0.843177     0.008322\n",
       "\n",
       "[3715 rows x 2 columns]"
      ]
     },
     "execution_count": 143,
     "metadata": {},
     "output_type": "execute_result"
    }
   ],
   "source": [
    "result_df = pd.DataFrame(result, columns=new_x.columns)\n",
    "result_df"
   ]
  },
  {
   "cell_type": "code",
   "execution_count": 144,
   "metadata": {},
   "outputs": [
    {
     "data": {
      "text/plain": [
       "<AxesSubplot: title={'center': 'Max Abs Normalization'}, xlabel='Sample Size', ylabel='Estimate (%)'>"
      ]
     },
     "execution_count": 144,
     "metadata": {},
     "output_type": "execute_result"
    },
    {
     "data": {
      "image/png": "[encoded data removed]",
      "text/plain": [
       "<Figure size 640x480 with 1 Axes>"
      ]
     },
     "metadata": {},
     "output_type": "display_data"
    }
   ],
   "source": [
    "result_df.plot.scatter(x='Sample Size', y='Estimate (%)', title='Max Abs Normalization')"
   ]
  },
  {
   "attachments": {},
   "cell_type": "markdown",
   "metadata": {},
   "source": [
    "### Min Max Normalization\n",
    "\n",
    "### $x_{new} = \\frac{x - x_{min}}{x_{max} - x_{min}}$"
   ]
  },
  {
   "cell_type": "code",
   "execution_count": 145,
   "metadata": {},
   "outputs": [],
   "source": [
    "def min_max_scaling(df):\n",
    "    df_scaled = df.copy()\n",
    "    for col in df_scaled.columns:\n",
    "        df_scaled[col] = (df_scaled[col] - df_scaled[col].min()) / (df_scaled[col].max() - df_scaled[col].min())\n",
    "    return df_scaled"
   ]
  },
  {
   "cell_type": "code",
   "execution_count": 146,
   "metadata": {},
   "outputs": [
    {
     "data": {
      "text/html": [
       "<div>\n",
       "<style scoped>\n",
       "    .dataframe tbody tr th:only-of-type {\n",
       "        vertical-align: middle;\n",
       "    }\n",
       "\n",
       "    .dataframe tbody tr th {\n",
       "        vertical-align: top;\n",
       "    }\n",
       "\n",
       "    .dataframe thead th {\n",
       "        text-align: right;\n",
       "    }\n",
       "</style>\n",
       "<table border=\"1\" class=\"dataframe\">\n",
       "  <thead>\n",
       "    <tr style=\"text-align: right;\">\n",
       "      <th></th>\n",
       "      <th>Estimate (%)</th>\n",
       "      <th>Sample Size</th>\n",
       "    </tr>\n",
       "  </thead>\n",
       "  <tbody>\n",
       "    <tr>\n",
       "      <th>0</th>\n",
       "      <td>0.473118</td>\n",
       "      <td>0.018762</td>\n",
       "    </tr>\n",
       "    <tr>\n",
       "      <th>1</th>\n",
       "      <td>0.445161</td>\n",
       "      <td>0.016566</td>\n",
       "    </tr>\n",
       "    <tr>\n",
       "      <th>2</th>\n",
       "      <td>0.547312</td>\n",
       "      <td>0.026038</td>\n",
       "    </tr>\n",
       "    <tr>\n",
       "      <th>3</th>\n",
       "      <td>0.391398</td>\n",
       "      <td>0.021714</td>\n",
       "    </tr>\n",
       "    <tr>\n",
       "      <th>4</th>\n",
       "      <td>0.305376</td>\n",
       "      <td>0.022309</td>\n",
       "    </tr>\n",
       "    <tr>\n",
       "      <th>...</th>\n",
       "      <td>...</td>\n",
       "      <td>...</td>\n",
       "    </tr>\n",
       "    <tr>\n",
       "      <th>4132</th>\n",
       "      <td>0.805376</td>\n",
       "      <td>0.021668</td>\n",
       "    </tr>\n",
       "    <tr>\n",
       "      <th>4133</th>\n",
       "      <td>0.873118</td>\n",
       "      <td>0.015193</td>\n",
       "    </tr>\n",
       "    <tr>\n",
       "      <th>4134</th>\n",
       "      <td>0.837634</td>\n",
       "      <td>0.010777</td>\n",
       "    </tr>\n",
       "    <tr>\n",
       "      <th>4135</th>\n",
       "      <td>0.813978</td>\n",
       "      <td>0.007322</td>\n",
       "    </tr>\n",
       "    <tr>\n",
       "      <th>4136</th>\n",
       "      <td>0.834409</td>\n",
       "      <td>0.007596</td>\n",
       "    </tr>\n",
       "  </tbody>\n",
       "</table>\n",
       "<p>3715 rows × 2 columns</p>\n",
       "</div>"
      ],
      "text/plain": [
       "      Estimate (%)  Sample Size\n",
       "0         0.473118     0.018762\n",
       "1         0.445161     0.016566\n",
       "2         0.547312     0.026038\n",
       "3         0.391398     0.021714\n",
       "4         0.305376     0.022309\n",
       "...            ...          ...\n",
       "4132      0.805376     0.021668\n",
       "4133      0.873118     0.015193\n",
       "4134      0.837634     0.010777\n",
       "4135      0.813978     0.007322\n",
       "4136      0.834409     0.007596\n",
       "\n",
       "[3715 rows x 2 columns]"
      ]
     },
     "execution_count": 146,
     "metadata": {},
     "output_type": "execute_result"
    }
   ],
   "source": [
    "min_max_scalar = min_max_scaling(new_x)\n",
    "min_max_scalar"
   ]
  },
  {
   "cell_type": "code",
   "execution_count": 147,
   "metadata": {},
   "outputs": [],
   "source": [
    "from sklearn.preprocessing import MinMaxScaler"
   ]
  },
  {
   "cell_type": "code",
   "execution_count": 148,
   "metadata": {},
   "outputs": [
    {
     "data": {
      "text/html": [
       "<style>#sk-container-id-8 {color: black;background-color: white;}#sk-container-id-8 pre{padding: 0;}#sk-container-id-8 div.sk-toggleable {background-color: white;}#sk-container-id-8 label.sk-toggleable__label {cursor: pointer;display: block;width: 100%;margin-bottom: 0;padding: 0.3em;box-sizing: border-box;text-align: center;}#sk-container-id-8 label.sk-toggleable__label-arrow:before {content: \"▸\";float: left;margin-right: 0.25em;color: #696969;}#sk-container-id-8 label.sk-toggleable__label-arrow:hover:before {color: black;}#sk-container-id-8 div.sk-estimator:hover label.sk-toggleable__label-arrow:before {color: black;}#sk-container-id-8 div.sk-toggleable__content {max-height: 0;max-width: 0;overflow: hidden;text-align: left;background-color: #f0f8ff;}#sk-container-id-8 div.sk-toggleable__content pre {margin: 0.2em;color: black;border-radius: 0.25em;background-color: #f0f8ff;}#sk-container-id-8 input.sk-toggleable__control:checked~div.sk-toggleable__content {max-height: 200px;max-width: 100%;overflow: auto;}#sk-container-id-8 input.sk-toggleable__control:checked~label.sk-toggleable__label-arrow:before {content: \"▾\";}#sk-container-id-8 div.sk-estimator input.sk-toggleable__control:checked~label.sk-toggleable__label {background-color: #d4ebff;}#sk-container-id-8 div.sk-label input.sk-toggleable__control:checked~label.sk-toggleable__label {background-color: #d4ebff;}#sk-container-id-8 input.sk-hidden--visually {border: 0;clip: rect(1px 1px 1px 1px);clip: rect(1px, 1px, 1px, 1px);height: 1px;margin: -1px;overflow: hidden;padding: 0;position: absolute;width: 1px;}#sk-container-id-8 div.sk-estimator {font-family: monospace;background-color: #f0f8ff;border: 1px dotted black;border-radius: 0.25em;box-sizing: border-box;margin-bottom: 0.5em;}#sk-container-id-8 div.sk-estimator:hover {background-color: #d4ebff;}#sk-container-id-8 div.sk-parallel-item::after {content: \"\";width: 100%;border-bottom: 1px solid gray;flex-grow: 1;}#sk-container-id-8 div.sk-label:hover label.sk-toggleable__label {background-color: #d4ebff;}#sk-container-id-8 div.sk-serial::before {content: \"\";position: absolute;border-left: 1px solid gray;box-sizing: border-box;top: 0;bottom: 0;left: 50%;z-index: 0;}#sk-container-id-8 div.sk-serial {display: flex;flex-direction: column;align-items: center;background-color: white;padding-right: 0.2em;padding-left: 0.2em;position: relative;}#sk-container-id-8 div.sk-item {position: relative;z-index: 1;}#sk-container-id-8 div.sk-parallel {display: flex;align-items: stretch;justify-content: center;background-color: white;position: relative;}#sk-container-id-8 div.sk-item::before, #sk-container-id-8 div.sk-parallel-item::before {content: \"\";position: absolute;border-left: 1px solid gray;box-sizing: border-box;top: 0;bottom: 0;left: 50%;z-index: -1;}#sk-container-id-8 div.sk-parallel-item {display: flex;flex-direction: column;z-index: 1;position: relative;background-color: white;}#sk-container-id-8 div.sk-parallel-item:first-child::after {align-self: flex-end;width: 50%;}#sk-container-id-8 div.sk-parallel-item:last-child::after {align-self: flex-start;width: 50%;}#sk-container-id-8 div.sk-parallel-item:only-child::after {width: 0;}#sk-container-id-8 div.sk-dashed-wrapped {border: 1px dashed gray;margin: 0 0.4em 0.5em 0.4em;box-sizing: border-box;padding-bottom: 0.4em;background-color: white;}#sk-container-id-8 div.sk-label label {font-family: monospace;font-weight: bold;display: inline-block;line-height: 1.2em;}#sk-container-id-8 div.sk-label-container {text-align: center;}#sk-container-id-8 div.sk-container {/* jupyter's `normalize.less` sets `[hidden] { display: none; }` but bootstrap.min.css set `[hidden] { display: none !important; }` so we also need the `!important` here to be able to override the default hidden behavior on the sphinx rendered scikit-learn.org. See: https://github.com/scikit-learn/scikit-learn/issues/21755 */display: inline-block !important;position: relative;}#sk-container-id-8 div.sk-text-repr-fallback {display: none;}</style><div id=\"sk-container-id-8\" class=\"sk-top-container\"><div class=\"sk-text-repr-fallback\"><pre>MinMaxScaler()</pre><b>In a Jupyter environment, please rerun this cell to show the HTML representation or trust the notebook. <br />On GitHub, the HTML representation is unable to render, please try loading this page with nbviewer.org.</b></div><div class=\"sk-container\" hidden><div class=\"sk-item\"><div class=\"sk-estimator sk-toggleable\"><input class=\"sk-toggleable__control sk-hidden--visually\" id=\"sk-estimator-id-8\" type=\"checkbox\" checked><label for=\"sk-estimator-id-8\" class=\"sk-toggleable__label sk-toggleable__label-arrow\">MinMaxScaler</label><div class=\"sk-toggleable__content\"><pre>MinMaxScaler()</pre></div></div></div></div></div>"
      ],
      "text/plain": [
       "MinMaxScaler()"
      ]
     },
     "execution_count": 148,
     "metadata": {},
     "output_type": "execute_result"
    }
   ],
   "source": [
    "min_max_scalar = MinMaxScaler()\n",
    "min_max_scalar"
   ]
  },
  {
   "cell_type": "code",
   "execution_count": 149,
   "metadata": {},
   "outputs": [
    {
     "data": {
      "text/plain": [
       "array([[0.47311828, 0.01876216],\n",
       "       [0.44516129, 0.01656561],\n",
       "       [0.54731183, 0.02603821],\n",
       "       ...,\n",
       "       [0.83763441, 0.0107768 ],\n",
       "       [0.81397849, 0.00732182],\n",
       "       [0.8344086 , 0.00759638]])"
      ]
     },
     "execution_count": 149,
     "metadata": {},
     "output_type": "execute_result"
    }
   ],
   "source": [
    "res = min_max_scalar.fit_transform(new_x)\n",
    "res"
   ]
  },
  {
   "cell_type": "code",
   "execution_count": 150,
   "metadata": {},
   "outputs": [
    {
     "data": {
      "text/plain": [
       "(array([ 5.2, 32. ]), array([   98.2, 43737. ]))"
      ]
     },
     "execution_count": 150,
     "metadata": {},
     "output_type": "execute_result"
    }
   ],
   "source": [
    "min_max_scalar.data_min_, min_max_scalar.data_max_"
   ]
  },
  {
   "cell_type": "code",
   "execution_count": 151,
   "metadata": {},
   "outputs": [
    {
     "data": {
      "text/html": [
       "<div>\n",
       "<style scoped>\n",
       "    .dataframe tbody tr th:only-of-type {\n",
       "        vertical-align: middle;\n",
       "    }\n",
       "\n",
       "    .dataframe tbody tr th {\n",
       "        vertical-align: top;\n",
       "    }\n",
       "\n",
       "    .dataframe thead th {\n",
       "        text-align: right;\n",
       "    }\n",
       "</style>\n",
       "<table border=\"1\" class=\"dataframe\">\n",
       "  <thead>\n",
       "    <tr style=\"text-align: right;\">\n",
       "      <th></th>\n",
       "      <th>Estimate (%)</th>\n",
       "      <th>Sample Size</th>\n",
       "    </tr>\n",
       "  </thead>\n",
       "  <tbody>\n",
       "    <tr>\n",
       "      <th>0</th>\n",
       "      <td>0.473118</td>\n",
       "      <td>0.018762</td>\n",
       "    </tr>\n",
       "    <tr>\n",
       "      <th>1</th>\n",
       "      <td>0.445161</td>\n",
       "      <td>0.016566</td>\n",
       "    </tr>\n",
       "    <tr>\n",
       "      <th>2</th>\n",
       "      <td>0.547312</td>\n",
       "      <td>0.026038</td>\n",
       "    </tr>\n",
       "    <tr>\n",
       "      <th>3</th>\n",
       "      <td>0.391398</td>\n",
       "      <td>0.021714</td>\n",
       "    </tr>\n",
       "    <tr>\n",
       "      <th>4</th>\n",
       "      <td>0.305376</td>\n",
       "      <td>0.022309</td>\n",
       "    </tr>\n",
       "    <tr>\n",
       "      <th>...</th>\n",
       "      <td>...</td>\n",
       "      <td>...</td>\n",
       "    </tr>\n",
       "    <tr>\n",
       "      <th>3710</th>\n",
       "      <td>0.805376</td>\n",
       "      <td>0.021668</td>\n",
       "    </tr>\n",
       "    <tr>\n",
       "      <th>3711</th>\n",
       "      <td>0.873118</td>\n",
       "      <td>0.015193</td>\n",
       "    </tr>\n",
       "    <tr>\n",
       "      <th>3712</th>\n",
       "      <td>0.837634</td>\n",
       "      <td>0.010777</td>\n",
       "    </tr>\n",
       "    <tr>\n",
       "      <th>3713</th>\n",
       "      <td>0.813978</td>\n",
       "      <td>0.007322</td>\n",
       "    </tr>\n",
       "    <tr>\n",
       "      <th>3714</th>\n",
       "      <td>0.834409</td>\n",
       "      <td>0.007596</td>\n",
       "    </tr>\n",
       "  </tbody>\n",
       "</table>\n",
       "<p>3715 rows × 2 columns</p>\n",
       "</div>"
      ],
      "text/plain": [
       "      Estimate (%)  Sample Size\n",
       "0         0.473118     0.018762\n",
       "1         0.445161     0.016566\n",
       "2         0.547312     0.026038\n",
       "3         0.391398     0.021714\n",
       "4         0.305376     0.022309\n",
       "...            ...          ...\n",
       "3710      0.805376     0.021668\n",
       "3711      0.873118     0.015193\n",
       "3712      0.837634     0.010777\n",
       "3713      0.813978     0.007322\n",
       "3714      0.834409     0.007596\n",
       "\n",
       "[3715 rows x 2 columns]"
      ]
     },
     "execution_count": 151,
     "metadata": {},
     "output_type": "execute_result"
    }
   ],
   "source": [
    "res = pd.DataFrame(res, columns=new_x.columns)\n",
    "res"
   ]
  },
  {
   "cell_type": "code",
   "execution_count": 152,
   "metadata": {},
   "outputs": [
    {
     "data": {
      "text/plain": [
       "<AxesSubplot: title={'center': 'Min Max Normalization'}, xlabel='Sample Size', ylabel='Estimate (%)'>"
      ]
     },
     "execution_count": 152,
     "metadata": {},
     "output_type": "execute_result"
    },
    {
     "data": {
      "image/png": "[encoded data removed]",
      "text/plain": [
       "<Figure size 640x480 with 1 Axes>"
      ]
     },
     "metadata": {},
     "output_type": "display_data"
    }
   ],
   "source": [
    "res.plot.scatter(x='Sample Size', y='Estimate (%)', title='Min Max Normalization')"
   ]
  },
  {
   "attachments": {},
   "cell_type": "markdown",
   "metadata": {},
   "source": [
    "### Z-Score Method\n",
    "\n",
    "### $x_{new} = \\frac{x_{old}-mean(x_{old})}{stddev(x_{old})}$"
   ]
  },
  {
   "cell_type": "code",
   "execution_count": 153,
   "metadata": {},
   "outputs": [],
   "source": [
    "def z_norm(df):\n",
    "    df_scaled = df.copy()\n",
    "    for col in df_scaled.columns:\n",
    "        df_scaled[col] = (df_scaled[col]-df_scaled[col].mean())/(df_scaled[col].std())\n",
    "    return df_scaled"
   ]
  },
  {
   "cell_type": "code",
   "execution_count": 154,
   "metadata": {},
   "outputs": [
    {
     "data": {
      "text/html": [
       "<div>\n",
       "<style scoped>\n",
       "    .dataframe tbody tr th:only-of-type {\n",
       "        vertical-align: middle;\n",
       "    }\n",
       "\n",
       "    .dataframe tbody tr th {\n",
       "        vertical-align: top;\n",
       "    }\n",
       "\n",
       "    .dataframe thead th {\n",
       "        text-align: right;\n",
       "    }\n",
       "</style>\n",
       "<table border=\"1\" class=\"dataframe\">\n",
       "  <thead>\n",
       "    <tr style=\"text-align: right;\">\n",
       "      <th></th>\n",
       "      <th>Estimate (%)</th>\n",
       "      <th>Sample Size</th>\n",
       "    </tr>\n",
       "  </thead>\n",
       "  <tbody>\n",
       "    <tr>\n",
       "      <th>0</th>\n",
       "      <td>-0.795996</td>\n",
       "      <td>0.001025</td>\n",
       "    </tr>\n",
       "    <tr>\n",
       "      <th>1</th>\n",
       "      <td>-0.967389</td>\n",
       "      <td>-0.034154</td>\n",
       "    </tr>\n",
       "    <tr>\n",
       "      <th>2</th>\n",
       "      <td>-0.341144</td>\n",
       "      <td>0.117557</td>\n",
       "    </tr>\n",
       "    <tr>\n",
       "      <th>3</th>\n",
       "      <td>-1.296992</td>\n",
       "      <td>0.048298</td>\n",
       "    </tr>\n",
       "    <tr>\n",
       "      <th>4</th>\n",
       "      <td>-1.824357</td>\n",
       "      <td>0.057826</td>\n",
       "    </tr>\n",
       "  </tbody>\n",
       "</table>\n",
       "</div>"
      ],
      "text/plain": [
       "   Estimate (%)  Sample Size\n",
       "0     -0.795996     0.001025\n",
       "1     -0.967389    -0.034154\n",
       "2     -0.341144     0.117557\n",
       "3     -1.296992     0.048298\n",
       "4     -1.824357     0.057826"
      ]
     },
     "execution_count": 154,
     "metadata": {},
     "output_type": "execute_result"
    }
   ],
   "source": [
    "z_normed = z_norm(new_x)\n",
    "z_normed.head()"
   ]
  },
  {
   "cell_type": "code",
   "execution_count": 155,
   "metadata": {},
   "outputs": [],
   "source": [
    "from sklearn.preprocessing import StandardScaler"
   ]
  },
  {
   "cell_type": "code",
   "execution_count": 156,
   "metadata": {},
   "outputs": [],
   "source": [
    "stdscaler = StandardScaler()"
   ]
  },
  {
   "cell_type": "code",
   "execution_count": 158,
   "metadata": {},
   "outputs": [],
   "source": [
    "stdscaler_res = stdscaler.fit_transform(new_x)"
   ]
  },
  {
   "cell_type": "code",
   "execution_count": 160,
   "metadata": {},
   "outputs": [
    {
     "data": {
      "text/plain": [
       "array([[-7.96102853e-01,  1.02541744e-03],\n",
       "       [-9.67519393e-01, -3.41588114e-02],\n",
       "       [-3.41189726e-01,  1.17573175e-01],\n",
       "       ...,\n",
       "       [ 1.43890512e+00, -1.26883914e-01],\n",
       "       [ 1.29386035e+00, -1.82225774e-01],\n",
       "       [ 1.41912629e+00, -1.77827746e-01]])"
      ]
     },
     "execution_count": 160,
     "metadata": {},
     "output_type": "execute_result"
    }
   ],
   "source": [
    "stdscaler_res"
   ]
  },
  {
   "cell_type": "code",
   "execution_count": 162,
   "metadata": {},
   "outputs": [
    {
     "data": {
      "text/html": [
       "<div>\n",
       "<style scoped>\n",
       "    .dataframe tbody tr th:only-of-type {\n",
       "        vertical-align: middle;\n",
       "    }\n",
       "\n",
       "    .dataframe tbody tr th {\n",
       "        vertical-align: top;\n",
       "    }\n",
       "\n",
       "    .dataframe thead th {\n",
       "        text-align: right;\n",
       "    }\n",
       "</style>\n",
       "<table border=\"1\" class=\"dataframe\">\n",
       "  <thead>\n",
       "    <tr style=\"text-align: right;\">\n",
       "      <th></th>\n",
       "      <th>Estimate (%)</th>\n",
       "      <th>Sample Size</th>\n",
       "    </tr>\n",
       "  </thead>\n",
       "  <tbody>\n",
       "    <tr>\n",
       "      <th>0</th>\n",
       "      <td>-0.796103</td>\n",
       "      <td>0.001025</td>\n",
       "    </tr>\n",
       "    <tr>\n",
       "      <th>1</th>\n",
       "      <td>-0.967519</td>\n",
       "      <td>-0.034159</td>\n",
       "    </tr>\n",
       "    <tr>\n",
       "      <th>2</th>\n",
       "      <td>-0.341190</td>\n",
       "      <td>0.117573</td>\n",
       "    </tr>\n",
       "    <tr>\n",
       "      <th>3</th>\n",
       "      <td>-1.297167</td>\n",
       "      <td>0.048304</td>\n",
       "    </tr>\n",
       "    <tr>\n",
       "      <th>4</th>\n",
       "      <td>-1.824602</td>\n",
       "      <td>0.057833</td>\n",
       "    </tr>\n",
       "    <tr>\n",
       "      <th>...</th>\n",
       "      <td>...</td>\n",
       "      <td>...</td>\n",
       "    </tr>\n",
       "    <tr>\n",
       "      <th>3710</th>\n",
       "      <td>1.241117</td>\n",
       "      <td>0.047571</td>\n",
       "    </tr>\n",
       "    <tr>\n",
       "      <th>3711</th>\n",
       "      <td>1.656472</td>\n",
       "      <td>-0.056149</td>\n",
       "    </tr>\n",
       "    <tr>\n",
       "      <th>3712</th>\n",
       "      <td>1.438905</td>\n",
       "      <td>-0.126884</td>\n",
       "    </tr>\n",
       "    <tr>\n",
       "      <th>3713</th>\n",
       "      <td>1.293860</td>\n",
       "      <td>-0.182226</td>\n",
       "    </tr>\n",
       "    <tr>\n",
       "      <th>3714</th>\n",
       "      <td>1.419126</td>\n",
       "      <td>-0.177828</td>\n",
       "    </tr>\n",
       "  </tbody>\n",
       "</table>\n",
       "<p>3715 rows × 2 columns</p>\n",
       "</div>"
      ],
      "text/plain": [
       "      Estimate (%)  Sample Size\n",
       "0        -0.796103     0.001025\n",
       "1        -0.967519    -0.034159\n",
       "2        -0.341190     0.117573\n",
       "3        -1.297167     0.048304\n",
       "4        -1.824602     0.057833\n",
       "...            ...          ...\n",
       "3710      1.241117     0.047571\n",
       "3711      1.656472    -0.056149\n",
       "3712      1.438905    -0.126884\n",
       "3713      1.293860    -0.182226\n",
       "3714      1.419126    -0.177828\n",
       "\n",
       "[3715 rows x 2 columns]"
      ]
     },
     "execution_count": 162,
     "metadata": {},
     "output_type": "execute_result"
    }
   ],
   "source": [
    "stdscaler_res_df = pd.DataFrame(stdscaler_res, columns=new_x.columns)\n",
    "stdscaler_res_df"
   ]
  },
  {
   "cell_type": "code",
   "execution_count": 163,
   "metadata": {},
   "outputs": [
    {
     "data": {
      "text/plain": [
       "array([  15.16773114, 2728.49521419])"
      ]
     },
     "execution_count": 163,
     "metadata": {},
     "output_type": "execute_result"
    }
   ],
   "source": [
    "stdscaler.scale_"
   ]
  },
  {
   "cell_type": "code",
   "execution_count": 164,
   "metadata": {},
   "outputs": [
    {
     "data": {
      "text/plain": [
       "array([ 61.27507402, 849.20215343])"
      ]
     },
     "execution_count": 164,
     "metadata": {},
     "output_type": "execute_result"
    }
   ],
   "source": [
    "stdscaler.mean_"
   ]
  },
  {
   "cell_type": "code",
   "execution_count": 165,
   "metadata": {},
   "outputs": [
    {
     "data": {
      "text/plain": [
       "<AxesSubplot: title={'center': 'z-norm scaling'}, xlabel='Sample Size', ylabel='Estimate (%)'>"
      ]
     },
     "execution_count": 165,
     "metadata": {},
     "output_type": "execute_result"
    },
    {
     "data": {
      "image/png": "[encoded data removed]",
      "text/plain": [
       "<Figure size 640x480 with 1 Axes>"
      ]
     },
     "metadata": {},
     "output_type": "display_data"
    }
   ],
   "source": [
    "stdscaler_res_df.plot.scatter(x='Sample Size', y='Estimate (%)', title='z-norm scaling')"
   ]
  },
  {
   "attachments": {},
   "cell_type": "markdown",
   "metadata": {},
   "source": [
    "### Robust Scaling\n",
    "\n",
    "### $ x_{new} = \\frac{x_{old} - median}{IQR} $\n",
    "\n",
    "where IQR is Inter Quartile Range = Q3 - Q1"
   ]
  },
  {
   "cell_type": "code",
   "execution_count": 166,
   "metadata": {},
   "outputs": [],
   "source": [
    "def robust_scaling(df):\n",
    "    df_scaled = df.copy()\n",
    "    for col in df_scaled.columns:\n",
    "        df_scaled[col] = (df_scaled[col] - df_scaled[col].median()) / (df_scaled[col].quantile(0.75)-df_scaled[col].quantile(0.25))\n",
    "    return df_scaled"
   ]
  },
  {
   "cell_type": "code",
   "execution_count": 167,
   "metadata": {},
   "outputs": [
    {
     "data": {
      "text/html": [
       "<div>\n",
       "<style scoped>\n",
       "    .dataframe tbody tr th:only-of-type {\n",
       "        vertical-align: middle;\n",
       "    }\n",
       "\n",
       "    .dataframe tbody tr th {\n",
       "        vertical-align: top;\n",
       "    }\n",
       "\n",
       "    .dataframe thead th {\n",
       "        text-align: right;\n",
       "    }\n",
       "</style>\n",
       "<table border=\"1\" class=\"dataframe\">\n",
       "  <thead>\n",
       "    <tr style=\"text-align: right;\">\n",
       "      <th></th>\n",
       "      <th>Estimate (%)</th>\n",
       "      <th>Sample Size</th>\n",
       "    </tr>\n",
       "  </thead>\n",
       "  <tbody>\n",
       "    <tr>\n",
       "      <th>0</th>\n",
       "      <td>-0.671642</td>\n",
       "      <td>1.023256</td>\n",
       "    </tr>\n",
       "    <tr>\n",
       "      <th>1</th>\n",
       "      <td>-0.800995</td>\n",
       "      <td>0.829120</td>\n",
       "    </tr>\n",
       "    <tr>\n",
       "      <th>2</th>\n",
       "      <td>-0.328358</td>\n",
       "      <td>1.666330</td>\n",
       "    </tr>\n",
       "    <tr>\n",
       "      <th>3</th>\n",
       "      <td>-1.049751</td>\n",
       "      <td>1.284125</td>\n",
       "    </tr>\n",
       "    <tr>\n",
       "      <th>4</th>\n",
       "      <td>-1.447761</td>\n",
       "      <td>1.336704</td>\n",
       "    </tr>\n",
       "    <tr>\n",
       "      <th>...</th>\n",
       "      <td>...</td>\n",
       "      <td>...</td>\n",
       "    </tr>\n",
       "    <tr>\n",
       "      <th>4132</th>\n",
       "      <td>0.865672</td>\n",
       "      <td>1.280081</td>\n",
       "    </tr>\n",
       "    <tr>\n",
       "      <th>4133</th>\n",
       "      <td>1.179104</td>\n",
       "      <td>0.707786</td>\n",
       "    </tr>\n",
       "    <tr>\n",
       "      <th>4134</th>\n",
       "      <td>1.014925</td>\n",
       "      <td>0.317492</td>\n",
       "    </tr>\n",
       "    <tr>\n",
       "      <th>4135</th>\n",
       "      <td>0.905473</td>\n",
       "      <td>0.012133</td>\n",
       "    </tr>\n",
       "    <tr>\n",
       "      <th>4136</th>\n",
       "      <td>1.000000</td>\n",
       "      <td>0.036400</td>\n",
       "    </tr>\n",
       "  </tbody>\n",
       "</table>\n",
       "<p>3715 rows × 2 columns</p>\n",
       "</div>"
      ],
      "text/plain": [
       "      Estimate (%)  Sample Size\n",
       "0        -0.671642     1.023256\n",
       "1        -0.800995     0.829120\n",
       "2        -0.328358     1.666330\n",
       "3        -1.049751     1.284125\n",
       "4        -1.447761     1.336704\n",
       "...            ...          ...\n",
       "4132      0.865672     1.280081\n",
       "4133      1.179104     0.707786\n",
       "4134      1.014925     0.317492\n",
       "4135      0.905473     0.012133\n",
       "4136      1.000000     0.036400\n",
       "\n",
       "[3715 rows x 2 columns]"
      ]
     },
     "execution_count": 167,
     "metadata": {},
     "output_type": "execute_result"
    }
   ],
   "source": [
    "robust_scaled = robust_scaling(new_x)\n",
    "robust_scaled"
   ]
  },
  {
   "cell_type": "code",
   "execution_count": 168,
   "metadata": {},
   "outputs": [],
   "source": [
    "from sklearn.preprocessing import RobustScaler"
   ]
  },
  {
   "cell_type": "code",
   "execution_count": 169,
   "metadata": {},
   "outputs": [],
   "source": [
    "rob_scaler = RobustScaler()"
   ]
  },
  {
   "cell_type": "code",
   "execution_count": 171,
   "metadata": {},
   "outputs": [
    {
     "data": {
      "text/plain": [
       "array([[-0.67164179,  1.02325581],\n",
       "       [-0.80099502,  0.82912032],\n",
       "       [-0.32835821,  1.66632963],\n",
       "       ...,\n",
       "       [ 1.01492537,  0.31749242],\n",
       "       [ 0.90547264,  0.01213347],\n",
       "       [ 1.        ,  0.0364004 ]])"
      ]
     },
     "execution_count": 171,
     "metadata": {},
     "output_type": "execute_result"
    }
   ],
   "source": [
    "rob_scaler_res = rob_scaler.fit_transform(new_x)\n",
    "rob_scaler_res"
   ]
  },
  {
   "cell_type": "code",
   "execution_count": 172,
   "metadata": {},
   "outputs": [
    {
     "data": {
      "text/html": [
       "<div>\n",
       "<style scoped>\n",
       "    .dataframe tbody tr th:only-of-type {\n",
       "        vertical-align: middle;\n",
       "    }\n",
       "\n",
       "    .dataframe tbody tr th {\n",
       "        vertical-align: top;\n",
       "    }\n",
       "\n",
       "    .dataframe thead th {\n",
       "        text-align: right;\n",
       "    }\n",
       "</style>\n",
       "<table border=\"1\" class=\"dataframe\">\n",
       "  <thead>\n",
       "    <tr style=\"text-align: right;\">\n",
       "      <th></th>\n",
       "      <th>Estimate (%)</th>\n",
       "      <th>Sample Size</th>\n",
       "    </tr>\n",
       "  </thead>\n",
       "  <tbody>\n",
       "    <tr>\n",
       "      <th>0</th>\n",
       "      <td>-0.671642</td>\n",
       "      <td>1.023256</td>\n",
       "    </tr>\n",
       "    <tr>\n",
       "      <th>1</th>\n",
       "      <td>-0.800995</td>\n",
       "      <td>0.829120</td>\n",
       "    </tr>\n",
       "    <tr>\n",
       "      <th>2</th>\n",
       "      <td>-0.328358</td>\n",
       "      <td>1.666330</td>\n",
       "    </tr>\n",
       "    <tr>\n",
       "      <th>3</th>\n",
       "      <td>-1.049751</td>\n",
       "      <td>1.284125</td>\n",
       "    </tr>\n",
       "    <tr>\n",
       "      <th>4</th>\n",
       "      <td>-1.447761</td>\n",
       "      <td>1.336704</td>\n",
       "    </tr>\n",
       "  </tbody>\n",
       "</table>\n",
       "</div>"
      ],
      "text/plain": [
       "   Estimate (%)  Sample Size\n",
       "0     -0.671642     1.023256\n",
       "1     -0.800995     0.829120\n",
       "2     -0.328358     1.666330\n",
       "3     -1.049751     1.284125\n",
       "4     -1.447761     1.336704"
      ]
     },
     "execution_count": 172,
     "metadata": {},
     "output_type": "execute_result"
    }
   ],
   "source": [
    "rob_scaler_df = pd.DataFrame(rob_scaler_res, columns=new_x.columns)\n",
    "rob_scaler_df.head()"
   ]
  },
  {
   "cell_type": "code",
   "execution_count": 174,
   "metadata": {},
   "outputs": [
    {
     "data": {
      "image/png": "[encoded data removed]",
      "text/plain": [
       "<Figure size 640x480 with 1 Axes>"
      ]
     },
     "metadata": {},
     "output_type": "display_data"
    }
   ],
   "source": [
    "rob_scaler_df.plot.scatter(x='Sample Size', y='Estimate (%)', title='Robust Scaling');"
   ]
  },
  {
   "attachments": {},
   "cell_type": "markdown",
   "metadata": {},
   "source": [
    "### Binning\n",
    "\n",
    "Groups data in bins (or buckets) - values in the interval are replaced by a single representative value used to convert numerical values to categorical.\n",
    "\n",
    "Types - Binning by distance, Binning by frequency"
   ]
  },
  {
   "cell_type": "code",
   "execution_count": 175,
   "metadata": {},
   "outputs": [],
   "source": [
    "min_x = new_x['Estimate (%)'].min()\n",
    "max_x = new_x['Estimate (%)'].max()"
   ]
  },
  {
   "cell_type": "code",
   "execution_count": 176,
   "metadata": {},
   "outputs": [
    {
     "data": {
      "text/plain": [
       "(5.2, 98.2)"
      ]
     },
     "execution_count": 176,
     "metadata": {},
     "output_type": "execute_result"
    }
   ],
   "source": [
    "min_x, max_x"
   ]
  },
  {
   "cell_type": "code",
   "execution_count": 177,
   "metadata": {},
   "outputs": [],
   "source": [
    "import numpy as np"
   ]
  },
  {
   "cell_type": "code",
   "execution_count": 178,
   "metadata": {},
   "outputs": [
    {
     "data": {
      "text/plain": [
       "array([ 1.,  4.,  7., 10.])"
      ]
     },
     "execution_count": 178,
     "metadata": {},
     "output_type": "execute_result"
    }
   ],
   "source": [
    "np.linspace(1, 10, 4)"
   ]
  },
  {
   "cell_type": "code",
   "execution_count": 180,
   "metadata": {},
   "outputs": [
    {
     "data": {
      "text/plain": [
       "array([ 5.2, 36.2, 67.2, 98.2])"
      ]
     },
     "execution_count": 180,
     "metadata": {},
     "output_type": "execute_result"
    }
   ],
   "source": [
    "bins = np.linspace(min_x, max_x, 4)\n",
    "bins"
   ]
  },
  {
   "cell_type": "code",
   "execution_count": 181,
   "metadata": {},
   "outputs": [
    {
     "data": {
      "text/plain": [
       "['Category I', 'Category II', 'Category III', 'Category IV']"
      ]
     },
     "execution_count": 181,
     "metadata": {},
     "output_type": "execute_result"
    }
   ],
   "source": [
    "labels = ['Category I', 'Category II', 'Category III', 'Category IV']\n",
    "labels"
   ]
  },
  {
   "cell_type": "code",
   "execution_count": 182,
   "metadata": {},
   "outputs": [
    {
     "data": {
      "text/plain": [
       "Index(['Estimate (%)', 'Sample Size'], dtype='object')"
      ]
     },
     "execution_count": 182,
     "metadata": {},
     "output_type": "execute_result"
    }
   ],
   "source": [
    "new_x.columns"
   ]
  },
  {
   "cell_type": "code",
   "execution_count": 185,
   "metadata": {},
   "outputs": [],
   "source": [
    "new_x['Category'] = pd.cut(new_x['Estimate (%)'], bins=4, labels=labels, include_lowest=True)"
   ]
  },
  {
   "cell_type": "code",
   "execution_count": 186,
   "metadata": {},
   "outputs": [
    {
     "data": {
      "text/plain": [
       "Index(['Estimate (%)', 'Sample Size', 'Category'], dtype='object')"
      ]
     },
     "execution_count": 186,
     "metadata": {},
     "output_type": "execute_result"
    }
   ],
   "source": [
    "new_x.columns"
   ]
  },
  {
   "cell_type": "code",
   "execution_count": 187,
   "metadata": {},
   "outputs": [
    {
     "data": {
      "text/html": [
       "<div>\n",
       "<style scoped>\n",
       "    .dataframe tbody tr th:only-of-type {\n",
       "        vertical-align: middle;\n",
       "    }\n",
       "\n",
       "    .dataframe tbody tr th {\n",
       "        vertical-align: top;\n",
       "    }\n",
       "\n",
       "    .dataframe thead th {\n",
       "        text-align: right;\n",
       "    }\n",
       "</style>\n",
       "<table border=\"1\" class=\"dataframe\">\n",
       "  <thead>\n",
       "    <tr style=\"text-align: right;\">\n",
       "      <th></th>\n",
       "      <th>Estimate (%)</th>\n",
       "      <th>Sample Size</th>\n",
       "      <th>Category</th>\n",
       "    </tr>\n",
       "  </thead>\n",
       "  <tbody>\n",
       "    <tr>\n",
       "      <th>0</th>\n",
       "      <td>49.2</td>\n",
       "      <td>852.0</td>\n",
       "      <td>Category II</td>\n",
       "    </tr>\n",
       "    <tr>\n",
       "      <th>1</th>\n",
       "      <td>46.6</td>\n",
       "      <td>756.0</td>\n",
       "      <td>Category II</td>\n",
       "    </tr>\n",
       "    <tr>\n",
       "      <th>2</th>\n",
       "      <td>56.1</td>\n",
       "      <td>1170.0</td>\n",
       "      <td>Category III</td>\n",
       "    </tr>\n",
       "    <tr>\n",
       "      <th>3</th>\n",
       "      <td>41.6</td>\n",
       "      <td>981.0</td>\n",
       "      <td>Category II</td>\n",
       "    </tr>\n",
       "    <tr>\n",
       "      <th>4</th>\n",
       "      <td>33.6</td>\n",
       "      <td>1007.0</td>\n",
       "      <td>Category II</td>\n",
       "    </tr>\n",
       "  </tbody>\n",
       "</table>\n",
       "</div>"
      ],
      "text/plain": [
       "   Estimate (%)  Sample Size      Category\n",
       "0          49.2        852.0   Category II\n",
       "1          46.6        756.0   Category II\n",
       "2          56.1       1170.0  Category III\n",
       "3          41.6        981.0   Category II\n",
       "4          33.6       1007.0   Category II"
      ]
     },
     "execution_count": 187,
     "metadata": {},
     "output_type": "execute_result"
    }
   ],
   "source": [
    "new_x.head()"
   ]
  },
  {
   "cell_type": "code",
   "execution_count": 189,
   "metadata": {},
   "outputs": [
    {
     "data": {
      "text/plain": [
       "<AxesSubplot: ylabel='Frequency'>"
      ]
     },
     "execution_count": 189,
     "metadata": {},
     "output_type": "execute_result"
    },
    {
     "data": {
      "image/png": "[encoded data removed]",
      "text/plain": [
       "<Figure size 640x480 with 1 Axes>"
      ]
     },
     "metadata": {},
     "output_type": "display_data"
    }
   ],
   "source": [
    "new_x['Estimate (%)'].plot.hist(bins=4)"
   ]
  },
  {
   "attachments": {},
   "cell_type": "markdown",
   "metadata": {},
   "source": [
    "### Binning by Frequency - use qcut()\n",
    "\n",
    "Calculates the size of each bin so that each bin contains the (almost) same number of observations, but the bin range will vary."
   ]
  },
  {
   "cell_type": "code",
   "execution_count": 191,
   "metadata": {},
   "outputs": [],
   "source": [
    "new_x['Category_Freq'] = pd.qcut(new_x['Estimate (%)'], q=3, labels=labels[:3], precision=1)"
   ]
  },
  {
   "cell_type": "code",
   "execution_count": 192,
   "metadata": {},
   "outputs": [
    {
     "data": {
      "text/html": [
       "<div>\n",
       "<style scoped>\n",
       "    .dataframe tbody tr th:only-of-type {\n",
       "        vertical-align: middle;\n",
       "    }\n",
       "\n",
       "    .dataframe tbody tr th {\n",
       "        vertical-align: top;\n",
       "    }\n",
       "\n",
       "    .dataframe thead th {\n",
       "        text-align: right;\n",
       "    }\n",
       "</style>\n",
       "<table border=\"1\" class=\"dataframe\">\n",
       "  <thead>\n",
       "    <tr style=\"text-align: right;\">\n",
       "      <th></th>\n",
       "      <th>Estimate (%)</th>\n",
       "      <th>Sample Size</th>\n",
       "      <th>Category</th>\n",
       "      <th>Category_Freq</th>\n",
       "    </tr>\n",
       "  </thead>\n",
       "  <tbody>\n",
       "    <tr>\n",
       "      <th>0</th>\n",
       "      <td>49.2</td>\n",
       "      <td>852.0</td>\n",
       "      <td>Category II</td>\n",
       "      <td>Category I</td>\n",
       "    </tr>\n",
       "    <tr>\n",
       "      <th>1</th>\n",
       "      <td>46.6</td>\n",
       "      <td>756.0</td>\n",
       "      <td>Category II</td>\n",
       "      <td>Category I</td>\n",
       "    </tr>\n",
       "    <tr>\n",
       "      <th>2</th>\n",
       "      <td>56.1</td>\n",
       "      <td>1170.0</td>\n",
       "      <td>Category III</td>\n",
       "      <td>Category I</td>\n",
       "    </tr>\n",
       "    <tr>\n",
       "      <th>3</th>\n",
       "      <td>41.6</td>\n",
       "      <td>981.0</td>\n",
       "      <td>Category II</td>\n",
       "      <td>Category I</td>\n",
       "    </tr>\n",
       "    <tr>\n",
       "      <th>4</th>\n",
       "      <td>33.6</td>\n",
       "      <td>1007.0</td>\n",
       "      <td>Category II</td>\n",
       "      <td>Category I</td>\n",
       "    </tr>\n",
       "  </tbody>\n",
       "</table>\n",
       "</div>"
      ],
      "text/plain": [
       "   Estimate (%)  Sample Size      Category Category_Freq\n",
       "0          49.2        852.0   Category II    Category I\n",
       "1          46.6        756.0   Category II    Category I\n",
       "2          56.1       1170.0  Category III    Category I\n",
       "3          41.6        981.0   Category II    Category I\n",
       "4          33.6       1007.0   Category II    Category I"
      ]
     },
     "execution_count": 192,
     "metadata": {},
     "output_type": "execute_result"
    }
   ],
   "source": [
    "new_x.head()"
   ]
  }
 ],
 "metadata": {
  "kernelspec": {
   "display_name": "Python 3 (ipykernel)",
   "language": "python",
   "name": "python3"
  },
  "language_info": {
   "codemirror_mode": {
    "name": "ipython",
    "version": 3
   },
   "file_extension": ".py",
   "mimetype": "text/x-python",
   "name": "python",
   "nbconvert_exporter": "python",
   "pygments_lexer": "ipython3",
   "version": "3.10.6"
  },
  "vscode": {
   "interpreter": {
    "hash": "f866dd45c9636e021a252738ab3d056019b9855a78678edaf693f213bc9b2f94"
   }
  }
 },
 "nbformat": 4,
 "nbformat_minor": 4
}
